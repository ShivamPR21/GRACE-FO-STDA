{
 "cells": [
  {
   "cell_type": "code",
   "execution_count": 37,
   "metadata": {
    "collapsed": true
   },
   "outputs": [],
   "source": [
    "import pandas as pd\n",
    "import re\n",
    "from datetime import datetime\n",
    "import numpy as np\n",
    "\n",
    "file = \"/home/shivam/PycharmProjects/grace-fo-stda/Data\" \\\n",
    "       \"/kfilter_DDK1_GSM-2_2018152-2018181_GRFO_JPLEM_BA01_0600.gfc\""
   ]
  },
  {
   "cell_type": "code",
   "execution_count": 24,
   "outputs": [],
   "source": [
    "sc_coeff = pd.read_csv(file, sep='\\s+', skiprows=55, header = None)"
   ],
   "metadata": {
    "collapsed": false,
    "pycharm": {
     "name": "#%%\n"
    }
   }
  },
  {
   "cell_type": "code",
   "execution_count": 25,
   "outputs": [
    {
     "data": {
      "text/plain": "     0  1  2             3             4             5             6\n0  gfc  0  0  1.000000e+00  0.000000e+00  0.000000e+00  0.000000e+00\n1  gfc  1  0  0.000000e+00  0.000000e+00  0.000000e+00  0.000000e+00\n2  gfc  1  1  0.000000e+00  0.000000e+00  0.000000e+00  0.000000e+00\n3  gfc  2  0 -4.841697e-04  0.000000e+00  5.249300e-12  0.000000e+00\n4  gfc  2  1 -4.421342e-10  1.516229e-09  1.281400e-12  1.313600e-12\n5  gfc  2  2  2.439359e-06 -1.400353e-06  6.416100e-13  6.603000e-13\n6  gfc  3  0  9.571702e-07  0.000000e+00  7.871800e-13  0.000000e+00\n7  gfc  3  1  2.030419e-06  2.483064e-07  3.863000e-13  4.079500e-13\n8  gfc  3  2  9.047564e-07 -6.190376e-07  5.425300e-13  5.448800e-13\n9  gfc  3  3  7.212555e-07  1.414473e-06  1.152100e-12  1.146700e-12",
      "text/html": "<div>\n<style scoped>\n    .dataframe tbody tr th:only-of-type {\n        vertical-align: middle;\n    }\n\n    .dataframe tbody tr th {\n        vertical-align: top;\n    }\n\n    .dataframe thead th {\n        text-align: right;\n    }\n</style>\n<table border=\"1\" class=\"dataframe\">\n  <thead>\n    <tr style=\"text-align: right;\">\n      <th></th>\n      <th>0</th>\n      <th>1</th>\n      <th>2</th>\n      <th>3</th>\n      <th>4</th>\n      <th>5</th>\n      <th>6</th>\n    </tr>\n  </thead>\n  <tbody>\n    <tr>\n      <th>0</th>\n      <td>gfc</td>\n      <td>0</td>\n      <td>0</td>\n      <td>1.000000e+00</td>\n      <td>0.000000e+00</td>\n      <td>0.000000e+00</td>\n      <td>0.000000e+00</td>\n    </tr>\n    <tr>\n      <th>1</th>\n      <td>gfc</td>\n      <td>1</td>\n      <td>0</td>\n      <td>0.000000e+00</td>\n      <td>0.000000e+00</td>\n      <td>0.000000e+00</td>\n      <td>0.000000e+00</td>\n    </tr>\n    <tr>\n      <th>2</th>\n      <td>gfc</td>\n      <td>1</td>\n      <td>1</td>\n      <td>0.000000e+00</td>\n      <td>0.000000e+00</td>\n      <td>0.000000e+00</td>\n      <td>0.000000e+00</td>\n    </tr>\n    <tr>\n      <th>3</th>\n      <td>gfc</td>\n      <td>2</td>\n      <td>0</td>\n      <td>-4.841697e-04</td>\n      <td>0.000000e+00</td>\n      <td>5.249300e-12</td>\n      <td>0.000000e+00</td>\n    </tr>\n    <tr>\n      <th>4</th>\n      <td>gfc</td>\n      <td>2</td>\n      <td>1</td>\n      <td>-4.421342e-10</td>\n      <td>1.516229e-09</td>\n      <td>1.281400e-12</td>\n      <td>1.313600e-12</td>\n    </tr>\n    <tr>\n      <th>5</th>\n      <td>gfc</td>\n      <td>2</td>\n      <td>2</td>\n      <td>2.439359e-06</td>\n      <td>-1.400353e-06</td>\n      <td>6.416100e-13</td>\n      <td>6.603000e-13</td>\n    </tr>\n    <tr>\n      <th>6</th>\n      <td>gfc</td>\n      <td>3</td>\n      <td>0</td>\n      <td>9.571702e-07</td>\n      <td>0.000000e+00</td>\n      <td>7.871800e-13</td>\n      <td>0.000000e+00</td>\n    </tr>\n    <tr>\n      <th>7</th>\n      <td>gfc</td>\n      <td>3</td>\n      <td>1</td>\n      <td>2.030419e-06</td>\n      <td>2.483064e-07</td>\n      <td>3.863000e-13</td>\n      <td>4.079500e-13</td>\n    </tr>\n    <tr>\n      <th>8</th>\n      <td>gfc</td>\n      <td>3</td>\n      <td>2</td>\n      <td>9.047564e-07</td>\n      <td>-6.190376e-07</td>\n      <td>5.425300e-13</td>\n      <td>5.448800e-13</td>\n    </tr>\n    <tr>\n      <th>9</th>\n      <td>gfc</td>\n      <td>3</td>\n      <td>3</td>\n      <td>7.212555e-07</td>\n      <td>1.414473e-06</td>\n      <td>1.152100e-12</td>\n      <td>1.146700e-12</td>\n    </tr>\n  </tbody>\n</table>\n</div>"
     },
     "execution_count": 25,
     "metadata": {},
     "output_type": "execute_result"
    }
   ],
   "source": [
    "sc_coeff.iloc[:10, :]"
   ],
   "metadata": {
    "collapsed": false,
    "pycharm": {
     "name": "#%%\n"
    }
   }
  },
  {
   "cell_type": "code",
   "execution_count": 67,
   "outputs": [],
   "source": [
    "f = open(file, \"r\")\n",
    "line_no = 0\n",
    "header = {\"file_name\" : file}\n",
    "while (True):\n",
    "\n",
    "    line_no += 1\n",
    "\n",
    "    line = (f.readline())\n",
    "    line = line.strip()\n",
    "\n",
    "    if line.startswith(\"time_coverage_start\"):\n",
    "        line_info = re.split(\": |T\", line)\n",
    "        start_date = datetime.strptime(line_info[1].strip(), \"%Y-%m-%d\").date()\n",
    "        start_time = datetime.strptime(line_info[2].strip(), \"%H:%M:%S.%f\").time()\n",
    "        header.update({\"Start date\" : start_date,\n",
    "                       \"Start time\" : start_time})\n",
    "\n",
    "    if line.startswith(\"time_coverage_end\"):\n",
    "        line_info = re.split(\": |T\", line)\n",
    "        end_date = datetime.strptime(line_info[1].strip(), \"%Y-%m-%d\").date()\n",
    "        end_time = datetime.strptime(line_info[2].strip(), \"%H:%M:%S.%f\").time()\n",
    "        header.update({\"End date\" : end_date,\n",
    "                       \"End time\" : end_time})\n",
    "\n",
    "    if line.startswith(\"key\"):\n",
    "        heading = ['key', 'L', 'M', 'C', 'S', 'sigma C', 'sigma S']\n",
    "        header.update({\"Heading\" : heading})\n",
    "\n",
    "    if line.startswith(\"end_of_head\"):\n",
    "        header.update({\"end_of_head\" : line_no})\n",
    "        break"
   ],
   "metadata": {
    "collapsed": false,
    "pycharm": {
     "name": "#%%\n"
    }
   }
  },
  {
   "cell_type": "code",
   "execution_count": 66,
   "outputs": [],
   "source": [
    "sc_coeff = pd.read_csv(file, sep='\\s+', skiprows=header[\"end_of_head\"], header = None)"
   ],
   "metadata": {
    "collapsed": false,
    "pycharm": {
     "name": "#%%\n"
    }
   }
  }
 ],
 "metadata": {
  "kernelspec": {
   "display_name": "Python 3",
   "language": "python",
   "name": "python3"
  },
  "language_info": {
   "codemirror_mode": {
    "name": "ipython",
    "version": 2
   },
   "file_extension": ".py",
   "mimetype": "text/x-python",
   "name": "python",
   "nbconvert_exporter": "python",
   "pygments_lexer": "ipython2",
   "version": "2.7.6"
  }
 },
 "nbformat": 4,
 "nbformat_minor": 0
}