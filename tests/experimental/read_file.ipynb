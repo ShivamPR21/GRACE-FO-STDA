{
 "cells": [
  {
   "cell_type": "code",
   "execution_count": 1,
   "metadata": {
    "collapsed": true,
    "pycharm": {
     "name": "#%%\n"
    }
   },
   "outputs": [
    {
     "data": {
      "text/plain": "165"
     },
     "execution_count": 1,
     "metadata": {},
     "output_type": "execute_result"
    }
   ],
   "source": [
    "import copy\n",
    "import os\n",
    "\n",
    "import numpy as np\n",
    "import pandas as pd\n",
    "\n",
    "from grace_fo_stda.preprocessing.anomaly import anomaly\n",
    "from grace_read.read import read\n",
    "\n",
    "root_dir = os.getcwd()+\"../../Data/\"\n",
    "files_path = [\"/home/shivam/2020-21-1/CE678A/Project-Group3Musketeers/grace-temporal-data/NASA-JPL-GRACE/DDK1/\"+file_n for file_n in os.listdir(\"/home/shivam/2020-21-1/CE678A/Project-Group3Musketeers/grace-temporal-data/NASA-JPL-GRACE/DDK1\")]\n",
    "len(files_path)"
   ]
  },
  {
   "cell_type": "code",
   "execution_count": 2,
   "outputs": [
    {
     "name": "stdout",
     "output_type": "stream",
     "text": [
      "165\n"
     ]
    }
   ],
   "source": [
    "data = read(files_path)\n",
    "print(len(data[\"sc_coeffs_mat\"]))"
   ],
   "metadata": {
    "collapsed": false,
    "pycharm": {
     "name": "#%%\n"
    }
   }
  },
  {
   "cell_type": "code",
   "execution_count": 3,
   "outputs": [],
   "source": [
    "import matplotlib.pyplot as plt"
   ],
   "metadata": {
    "collapsed": false,
    "pycharm": {
     "name": "#%%\n"
    }
   }
  },
  {
   "cell_type": "code",
   "execution_count": 4,
   "outputs": [
    {
     "data": {
      "text/plain": "165"
     },
     "execution_count": 4,
     "metadata": {},
     "output_type": "execute_result"
    }
   ],
   "source": [
    "sc_anomaly_ = anomaly(data)\n",
    "len(sc_anomaly_[\"sc_anomaly\"])"
   ],
   "metadata": {
    "collapsed": false,
    "pycharm": {
     "name": "#%%\n"
    }
   }
  },
  {
   "cell_type": "code",
   "execution_count": 5,
   "outputs": [],
   "source": [
    "sc_anomaly = sc_anomaly_[\"sc_anomaly\"][0]\n",
    "sc = np.concatenate((np.fliplr(sc_anomaly[:, 1:, 1]), sc_anomaly[:, :, 0]), axis=1)"
   ],
   "metadata": {
    "collapsed": false,
    "pycharm": {
     "name": "#%%\n"
    }
   }
  },
  {
   "cell_type": "code",
   "execution_count": 6,
   "outputs": [
    {
     "data": {
      "text/plain": "(61, 121)"
     },
     "execution_count": 6,
     "metadata": {},
     "output_type": "execute_result"
    }
   ],
   "source": [
    "sc.shape"
   ],
   "metadata": {
    "collapsed": false,
    "pycharm": {
     "name": "#%%\n"
    }
   }
  },
  {
   "cell_type": "code",
   "execution_count": 7,
   "outputs": [
    {
     "data": {
      "text/plain": "<matplotlib.colorbar.Colorbar at 0x7f82e5ec0190>"
     },
     "execution_count": 7,
     "metadata": {},
     "output_type": "execute_result"
    },
    {
     "data": {
      "text/plain": "<Figure size 432x288 with 2 Axes>",
      "image/png": "[encoded data removed]"
     },
     "metadata": {
      "needs_background": "light"
     },
     "output_type": "display_data"
    }
   ],
   "source": [
    "plt.imshow(sc)\n",
    "plt.colorbar()"
   ],
   "metadata": {
    "collapsed": false,
    "pycharm": {
     "name": "#%%\n"
    }
   }
  },
  {
   "cell_type": "code",
   "execution_count": 8,
   "outputs": [],
   "source": [
    "from grace_fo_stda.preprocessing.filters import gauss_filter"
   ],
   "metadata": {
    "collapsed": false,
    "pycharm": {
     "name": "#%%\n"
    }
   }
  },
  {
   "cell_type": "code",
   "execution_count": 1,
   "outputs": [
    {
     "ename": "NameError",
     "evalue": "name 'gauss_filter' is not defined",
     "output_type": "error",
     "traceback": [
      "\u001B[0;31m---------------------------------------------------------------------------\u001B[0m",
      "\u001B[0;31mNameError\u001B[0m                                 Traceback (most recent call last)",
      "\u001B[0;32m<ipython-input-1-c6ef1a3102c6>\u001B[0m in \u001B[0;36m<module>\u001B[0;34m\u001B[0m\n\u001B[0;32m----> 1\u001B[0;31m \u001B[0msc_new\u001B[0m \u001B[0;34m=\u001B[0m \u001B[0mgauss_filter\u001B[0m\u001B[0;34m(\u001B[0m\u001B[0msc_anomaly_\u001B[0m\u001B[0;34m,\u001B[0m \u001B[0mgaussian_blur\u001B[0m\u001B[0;34m=\u001B[0m\u001B[0mnp\u001B[0m\u001B[0;34m.\u001B[0m\u001B[0mfloat32\u001B[0m\u001B[0;34m(\u001B[0m\u001B[0;34m[\u001B[0m\u001B[0;36m0.5\u001B[0m\u001B[0;34m,\u001B[0m \u001B[0;36m0.1\u001B[0m\u001B[0;34m]\u001B[0m\u001B[0;34m)\u001B[0m\u001B[0;34m)\u001B[0m\u001B[0;34m\u001B[0m\u001B[0;34m\u001B[0m\u001B[0m\n\u001B[0m\u001B[1;32m      2\u001B[0m \u001B[0;34m\u001B[0m\u001B[0m\n",
      "\u001B[0;31mNameError\u001B[0m: name 'gauss_filter' is not defined"
     ]
    }
   ],
   "source": [
    "sc_new = gauss_filter(sc_anomaly_, gaussian_blur=np.float32([0.5, 0.1]))"
   ],
   "metadata": {
    "collapsed": false,
    "pycharm": {
     "name": "#%%\n"
    }
   }
  },
  {
   "cell_type": "code",
   "execution_count": 2,
   "outputs": [
    {
     "ename": "NameError",
     "evalue": "name 'sc_new' is not defined",
     "output_type": "error",
     "traceback": [
      "\u001B[0;31m---------------------------------------------------------------------------\u001B[0m",
      "\u001B[0;31mNameError\u001B[0m                                 Traceback (most recent call last)",
      "\u001B[0;32m<ipython-input-2-9197bacb4f64>\u001B[0m in \u001B[0;36m<module>\u001B[0;34m\u001B[0m\n\u001B[0;32m----> 1\u001B[0;31m \u001B[0msc_anomaly1\u001B[0m \u001B[0;34m=\u001B[0m \u001B[0msc_new\u001B[0m\u001B[0;34m[\u001B[0m\u001B[0;34m\"sc_anomaly_abs_log\"\u001B[0m\u001B[0;34m]\u001B[0m\u001B[0;34m[\u001B[0m\u001B[0;36m0\u001B[0m\u001B[0;34m]\u001B[0m\u001B[0;34m\u001B[0m\u001B[0;34m\u001B[0m\u001B[0m\n\u001B[0m\u001B[1;32m      2\u001B[0m \u001B[0msc1\u001B[0m \u001B[0;34m=\u001B[0m \u001B[0mnp\u001B[0m\u001B[0;34m.\u001B[0m\u001B[0mconcatenate\u001B[0m\u001B[0;34m(\u001B[0m\u001B[0;34m(\u001B[0m\u001B[0mnp\u001B[0m\u001B[0;34m.\u001B[0m\u001B[0mfliplr\u001B[0m\u001B[0;34m(\u001B[0m\u001B[0msc_anomaly1\u001B[0m\u001B[0;34m[\u001B[0m\u001B[0;34m:\u001B[0m\u001B[0;34m,\u001B[0m \u001B[0;36m1\u001B[0m\u001B[0;34m:\u001B[0m\u001B[0;34m,\u001B[0m \u001B[0;36m1\u001B[0m\u001B[0;34m]\u001B[0m\u001B[0;34m)\u001B[0m\u001B[0;34m,\u001B[0m \u001B[0msc_anomaly1\u001B[0m\u001B[0;34m[\u001B[0m\u001B[0;34m:\u001B[0m\u001B[0;34m,\u001B[0m \u001B[0;34m:\u001B[0m\u001B[0;34m,\u001B[0m \u001B[0;36m0\u001B[0m\u001B[0;34m]\u001B[0m\u001B[0;34m)\u001B[0m\u001B[0;34m,\u001B[0m \u001B[0maxis\u001B[0m\u001B[0;34m=\u001B[0m\u001B[0;36m1\u001B[0m\u001B[0;34m)\u001B[0m\u001B[0;34m\u001B[0m\u001B[0;34m\u001B[0m\u001B[0m\n\u001B[1;32m      3\u001B[0m \u001B[0;34m\u001B[0m\u001B[0m\n",
      "\u001B[0;31mNameError\u001B[0m: name 'sc_new' is not defined"
     ]
    }
   ],
   "source": [
    "sc_anomaly1 = sc_new[\"sc_anomaly_abs_log\"][0]\n",
    "sc1 = np.concatenate((np.fliplr(sc_anomaly1[:, 1:, 1]), sc_anomaly1[:, :, 0]), axis=1)"
   ],
   "metadata": {
    "collapsed": false,
    "pycharm": {
     "name": "#%%\n"
    }
   }
  },
  {
   "cell_type": "code",
   "execution_count": 3,
   "outputs": [
    {
     "ename": "NameError",
     "evalue": "name 'plt' is not defined",
     "output_type": "error",
     "traceback": [
      "\u001B[0;31m---------------------------------------------------------------------------\u001B[0m",
      "\u001B[0;31mNameError\u001B[0m                                 Traceback (most recent call last)",
      "\u001B[0;32m<ipython-input-3-20d067fd1532>\u001B[0m in \u001B[0;36m<module>\u001B[0;34m\u001B[0m\n\u001B[0;32m----> 1\u001B[0;31m \u001B[0mplt\u001B[0m\u001B[0;34m.\u001B[0m\u001B[0mimshow\u001B[0m\u001B[0;34m(\u001B[0m\u001B[0msc1\u001B[0m\u001B[0;34m)\u001B[0m\u001B[0;34m\u001B[0m\u001B[0;34m\u001B[0m\u001B[0m\n\u001B[0m\u001B[1;32m      2\u001B[0m \u001B[0mplt\u001B[0m\u001B[0;34m.\u001B[0m\u001B[0mcolorbar\u001B[0m\u001B[0;34m(\u001B[0m\u001B[0;34m)\u001B[0m\u001B[0;34m\u001B[0m\u001B[0;34m\u001B[0m\u001B[0m\n\u001B[1;32m      3\u001B[0m \u001B[0;34m\u001B[0m\u001B[0m\n",
      "\u001B[0;31mNameError\u001B[0m: name 'plt' is not defined"
     ]
    }
   ],
   "source": [
    "plt.imshow(sc1)\n",
    "plt.colorbar()"
   ],
   "metadata": {
    "collapsed": false,
    "pycharm": {
     "name": "#%%\n"
    }
   }
  },
  {
   "cell_type": "code",
   "execution_count": 16,
   "outputs": [],
   "source": [
    "import scipy.io as sio\n",
    "mat_contents = sio.loadmat(\"../../grace_fo_stda/physics/params/ctchmntindx3.mat\")\n",
    "mat_contents[\"cindx3\"][np.where(mat_contents[\"cindx3\"]<0)] = -1"
   ],
   "metadata": {
    "collapsed": false,
    "pycharm": {
     "name": "#%%\n"
    }
   }
  },
  {
   "cell_type": "code",
   "execution_count": 17,
   "outputs": [
    {
     "data": {
      "text/plain": "<matplotlib.colorbar.Colorbar at 0x7f8973bc8220>"
     },
     "execution_count": 17,
     "metadata": {},
     "output_type": "execute_result"
    },
    {
     "data": {
      "text/plain": "<Figure size 432x288 with 2 Axes>",
      "image/png": "[encoded data removed]"
     },
     "metadata": {
      "needs_background": "light"
     },
     "output_type": "display_data"
    }
   ],
   "source": [
    "plt.imshow(mat_contents[\"cindx3\"])\n",
    "plt.colorbar()"
   ],
   "metadata": {
    "collapsed": false,
    "pycharm": {
     "name": "#%%\n"
    }
   }
  },
  {
   "cell_type": "code",
   "execution_count": 30,
   "outputs": [
    {
     "data": {
      "text/plain": "(405, 1)"
     },
     "execution_count": 30,
     "metadata": {},
     "output_type": "execute_result"
    }
   ],
   "source": [
    "np.shape(mat_contents[\"indx3\"])\n",
    "# plt.show()"
   ],
   "metadata": {
    "collapsed": false,
    "pycharm": {
     "name": "#%%\n"
    }
   }
  },
  {
   "cell_type": "code",
   "execution_count": 19,
   "outputs": [
    {
     "data": {
      "text/plain": "{'__header__': b'MATLAB 5.0 MAT-file, Platform: GLNXA64, Created on: Tue Aug 24 10:51:14 2010',\n '__version__': '1.0',\n '__globals__': [],\n 'ctchnms': array([[array(['ALABAMA'], dtype='<U7'), array([[54249.3]]),\n         array([[203]], dtype=uint8), array([[101]], dtype=uint8)],\n        [array(['ALAZEYA'], dtype='<U7'), array([[28735.12]]),\n         array([[17]], dtype=uint8), array([[13]], dtype=uint8)],\n        [array(['ALBANY RIVER'], dtype='<U12'), array([[97926.41]]),\n         array([[115]], dtype=uint8), array([[16]], dtype=uint8)],\n        ...,\n        [array(['ZAGROS (IRAN) (DL)'], dtype='<U18'), array([[143834.4]]),\n         array([[193]], dtype=uint8), array([[323]], dtype=uint16)],\n        [array(['ZAMBEZI'], dtype='<U7'), array([[1115565]], dtype=int32),\n         array([[340]], dtype=uint16), array([[238]], dtype=uint8)],\n        [array(['ALL'], dtype='<U3'), array([[1.10813262e+08]]),\n         array([[999]], dtype=uint16), array([[999]], dtype=uint16)]],\n       dtype=object)}"
     },
     "execution_count": 19,
     "metadata": {},
     "output_type": "execute_result"
    }
   ],
   "source": [
    "mat_contents_catchments = sio.loadmat(\"../../grace_fo_stda/physics/params/ctchnms.mat\")\n",
    "mat_contents_catchments"
   ],
   "metadata": {
    "collapsed": false,
    "pycharm": {
     "name": "#%%\n"
    }
   }
  },
  {
   "cell_type": "code",
   "execution_count": 32,
   "outputs": [
    {
     "data": {
      "text/plain": "array([array(['GREENLAND'], dtype='<U9'), array([[2147558]], dtype=int32),\n       array([[2]], dtype=uint8), array([[409]], dtype=uint16)],\n      dtype=object)"
     },
     "execution_count": 32,
     "metadata": {},
     "output_type": "execute_result"
    }
   ],
   "source": [
    "# np.asarray([:, 0], dtype=str)\n",
    "# plt.plot(np.sort(np.concatenate(mat_contents_catchments[\"ctchnms\"]).ravel()))\n",
    "# np.where(np.concatenate(mat_contents_catchments[\"ctchnms\"][:, 0]).ravel() == \"GREENLAND\")\n",
    "# np.concatenate(mat_contents_catchments[\"ctchnms\"][:, 3]).ravel()[np.where(np.concatenate(mat_contents_catchments[\"ctchnms\"][:, 0]).ravel() == \"GREENLAND\")]\n",
    "# mat_contents_catchments[\"ctchnms\"][116, :]"
   ],
   "metadata": {
    "collapsed": false,
    "pycharm": {
     "name": "#%%\n"
    }
   }
  },
  {
   "cell_type": "code",
   "execution_count": 33,
   "outputs": [
    {
     "data": {
      "text/plain": "<matplotlib.colorbar.Colorbar at 0x7f87883fd340>"
     },
     "execution_count": 33,
     "metadata": {},
     "output_type": "execute_result"
    },
    {
     "data": {
      "text/plain": "<Figure size 432x288 with 2 Axes>",
      "image/png": "[encoded data removed]"
     },
     "metadata": {
      "needs_background": "light"
     },
     "output_type": "display_data"
    }
   ],
   "source": [
    "mat_contents_tmp = copy.copy(mat_contents)\n",
    "mat_contents_tmp[\"cindx3\"][np.where(mat_contents[\"cindx3\"] != 409)] = -1\n",
    "mat_contents_tmp[\"cindx3\"][180:185, :] = 100\n",
    "\n",
    "plt.imshow(mat_contents_tmp[\"cindx3\"])\n",
    "plt.colorbar()"
   ],
   "metadata": {
    "collapsed": false,
    "pycharm": {
     "name": "#%%\n"
    }
   }
  },
  {
   "cell_type": "code",
   "execution_count": 18,
   "outputs": [],
   "source": [
    "x, y = np.where(mat_contents[\"cindx3\"] == 409)\n",
    "x = np.float32(x)\n",
    "y = np.float32(y)"
   ],
   "metadata": {
    "collapsed": false,
    "pycharm": {
     "name": "#%%\n"
    }
   }
  },
  {
   "cell_type": "code",
   "execution_count": 19,
   "outputs": [
    {
     "data": {
      "text/plain": "array([[ 0, 59],\n       [ 0, 60],\n       [ 0, 61],\n       ...,\n       [46, 57],\n       [46, 58],\n       [46, 59]], dtype=int32)"
     },
     "execution_count": 19,
     "metadata": {},
     "output_type": "execute_result"
    }
   ],
   "source": [
    "np.int32([x-np.min(x), y - np.min(y)]).T"
   ],
   "metadata": {
    "collapsed": false,
    "pycharm": {
     "name": "#%%\n"
    }
   }
  },
  {
   "cell_type": "code",
   "execution_count": 20,
   "outputs": [],
   "source": [
    "x *= np.float32(0.5*np.pi/180)\n",
    "y *= np.float32([0.5*np.pi/180])\n",
    "y -= np.pi\n",
    "y[np.where(y<0)] += 2*np.pi"
   ],
   "metadata": {
    "collapsed": false,
    "pycharm": {
     "name": "#%%\n"
    }
   }
  },
  {
   "cell_type": "code",
   "execution_count": 21,
   "outputs": [],
   "source": [
    "from scipy import special"
   ],
   "metadata": {
    "collapsed": false,
    "pycharm": {
     "name": "#%%\n"
    }
   }
  },
  {
   "cell_type": "code",
   "execution_count": 22,
   "outputs": [],
   "source": [
    "l = np.linspace(0, 61, dtype=int)\n",
    "m = np.linspace(0, 61, dtype=int)\n",
    "\n",
    "ylm = special.sph_harm(m, l, y[0], x[0])"
   ],
   "metadata": {
    "collapsed": false,
    "pycharm": {
     "name": "#%%\n"
    }
   }
  },
  {
   "cell_type": "code",
   "execution_count": 23,
   "outputs": [
    {
     "data": {
      "text/plain": "array([ 2.82094792e-01+0.00000000e+00j, -2.83701564e-02+2.69222633e-02j,\n        2.59069572e-04-4.94330721e-03j,  3.93087726e-04+4.60247106e-04j,\n       -7.22760939e-05-7.59657722e-06j, -1.59041592e-07+1.00414193e-06j,\n       -6.74749900e-08-9.81769899e-08j,  1.35969998e-08+2.89015239e-09j,\n       -1.37849234e-09+8.44738059e-10j,  1.03577194e-11+1.90766379e-11j,\n       -2.38523956e-12-7.75017121e-13j,  2.61137168e-13-1.24555275e-13j,\n       -1.19451264e-14+3.11178791e-14j,  4.02817169e-16+1.79347176e-16j,\n       -4.77395942e-17+1.69053093e-17j,  2.63869767e-18-5.17869347e-18j,\n        1.89311066e-19+6.39111630e-19j,  8.50864177e-21-2.04270948e-21j,\n       -5.45605142e-22+8.40150816e-22j, -2.08890604e-23-1.12709939e-22j,\n        1.06068928e-23+7.70643006e-24j,  1.07810270e-25-1.33133297e-25j,\n        1.53548274e-27+1.95113941e-26j, -1.66112608e-27-1.49570010e-27j,\n        2.55125061e-28-6.67932610e-30j,  8.70355121e-32-3.32302965e-30j,\n        2.53756183e-31+2.81828121e-31j, -4.31212849e-32-3.39398149e-33j,\n        3.83324326e-33-3.10405958e-33j, -3.76763795e-35-5.18578080e-35j,\n        7.18279586e-36+1.33130297e-36j, -6.98101599e-37+4.53345558e-37j,\n        2.21385136e-38-9.22106380e-38j, -1.17959626e-39-3.49421987e-40j,\n        1.24827005e-40-6.36013240e-41j, -5.32476010e-42+1.50362816e-41j,\n       -7.38606205e-43-1.65897275e-42j, -2.19646949e-44+8.43124366e-45j,\n        1.15271212e-45-2.41665757e-45j,  9.41473813e-47+2.89764531e-46j,\n       -3.04647311e-47-1.65413541e-47j, -2.34417166e-49+3.82526011e-49j,\n       -1.06094731e-50-4.99159890e-50j,  4.78324827e-51+3.28750396e-51j,\n       -6.51947825e-52+1.03251768e-52j,  8.92066409e-55+8.48828409e-54j,\n       -7.37907573e-55-6.30245955e-55j,  1.10176169e-55-5.77291238e-57j,\n       -8.63358966e-57+9.09770790e-57j,  1.11551015e-58+1.17552878e-58j])"
     },
     "execution_count": 23,
     "metadata": {},
     "output_type": "execute_result"
    }
   ],
   "source": [
    "ylm"
   ],
   "metadata": {
    "collapsed": false,
    "pycharm": {
     "name": "#%%\n"
    }
   }
  },
  {
   "cell_type": "code",
   "execution_count": 33,
   "outputs": [
    {
     "data": {
      "text/plain": "array([ 2.82094792e-01, -2.83701564e-02,  2.59069572e-04,  3.93087726e-04,\n       -7.22760939e-05, -1.59041592e-07, -6.74749900e-08,  1.35969998e-08,\n       -1.37849234e-09,  1.03577194e-11, -2.38523956e-12,  2.61137168e-13,\n       -1.19451264e-14,  4.02817169e-16, -4.77395942e-17,  2.63869767e-18,\n        1.89311066e-19,  8.50864177e-21, -5.45605142e-22, -2.08890604e-23,\n        1.06068928e-23,  1.07810270e-25,  1.53548274e-27, -1.66112608e-27,\n        2.55125061e-28,  8.70355121e-32,  2.53756183e-31, -4.31212849e-32,\n        3.83324326e-33, -3.76763795e-35,  7.18279586e-36, -6.98101599e-37,\n        2.21385136e-38, -1.17959626e-39,  1.24827005e-40, -5.32476010e-42,\n       -7.38606205e-43, -2.19646949e-44,  1.15271212e-45,  9.41473813e-47,\n       -3.04647311e-47, -2.34417166e-49, -1.06094731e-50,  4.78324827e-51,\n       -6.51947825e-52,  8.92066409e-55, -7.37907573e-55,  1.10176169e-55,\n       -8.63358966e-57,  1.11551015e-58])"
     },
     "execution_count": 33,
     "metadata": {},
     "output_type": "execute_result"
    }
   ],
   "source": [
    "ylm.real"
   ],
   "metadata": {
    "collapsed": false,
    "pycharm": {
     "name": "#%%\n"
    }
   }
  },
  {
   "cell_type": "code",
   "execution_count": 34,
   "outputs": [
    {
     "data": {
      "text/plain": "array([ 0.00000000e+00,  2.69222633e-02, -4.94330721e-03,  4.60247106e-04,\n       -7.59657722e-06,  1.00414193e-06, -9.81769899e-08,  2.89015239e-09,\n        8.44738059e-10,  1.90766379e-11, -7.75017121e-13, -1.24555275e-13,\n        3.11178791e-14,  1.79347176e-16,  1.69053093e-17, -5.17869347e-18,\n        6.39111630e-19, -2.04270948e-21,  8.40150816e-22, -1.12709939e-22,\n        7.70643006e-24, -1.33133297e-25,  1.95113941e-26, -1.49570010e-27,\n       -6.67932610e-30, -3.32302965e-30,  2.81828121e-31, -3.39398149e-33,\n       -3.10405958e-33, -5.18578080e-35,  1.33130297e-36,  4.53345558e-37,\n       -9.22106380e-38, -3.49421987e-40, -6.36013240e-41,  1.50362816e-41,\n       -1.65897275e-42,  8.43124366e-45, -2.41665757e-45,  2.89764531e-46,\n       -1.65413541e-47,  3.82526011e-49, -4.99159890e-50,  3.28750396e-51,\n        1.03251768e-52,  8.48828409e-54, -6.30245955e-55, -5.77291238e-57,\n        9.09770790e-57,  1.17552878e-58])"
     },
     "execution_count": 34,
     "metadata": {},
     "output_type": "execute_result"
    }
   ],
   "source": [
    "ylm.imag"
   ],
   "metadata": {
    "collapsed": false,
    "pycharm": {
     "name": "#%%\n"
    }
   }
  },
  {
   "cell_type": "code",
   "execution_count": 18,
   "outputs": [],
   "source": [
    "max_l = 60\n",
    "l_range = np.arange(0, max_l+1)\n",
    "l, m = np.meshgrid(l_range, l_range)"
   ],
   "metadata": {
    "collapsed": false,
    "pycharm": {
     "name": "#%%\n"
    }
   }
  },
  {
   "cell_type": "code",
   "execution_count": 23,
   "outputs": [
    {
     "data": {
      "text/plain": "array([[ 0],\n       [ 1],\n       [ 2],\n       ...,\n       [58],\n       [59],\n       [60]])"
     },
     "execution_count": 23,
     "metadata": {},
     "output_type": "execute_result"
    }
   ],
   "source": [
    "l.reshape([np.size(l), 1])"
   ],
   "metadata": {
    "collapsed": false,
    "pycharm": {
     "name": "#%%\n"
    }
   }
  },
  {
   "cell_type": "code",
   "execution_count": 21,
   "outputs": [
    {
     "data": {
      "text/plain": "3721"
     },
     "execution_count": 21,
     "metadata": {},
     "output_type": "execute_result"
    }
   ],
   "source": [
    "np.size(m)"
   ],
   "metadata": {
    "collapsed": false,
    "pycharm": {
     "name": "#%%\n"
    }
   }
  },
  {
   "cell_type": "code",
   "execution_count": 25,
   "outputs": [
    {
     "data": {
      "text/plain": "array([[ 0,  1,  2, ..., 58, 59, 60],\n       [ 0,  1,  2, ..., 58, 59, 60],\n       [ 0,  1,  2, ..., 58, 59, 60],\n       ...,\n       [ 0,  1,  2, ..., 58, 59, 60],\n       [ 0,  1,  2, ..., 58, 59, 60],\n       [ 0,  1,  2, ..., 58, 59, 60]])"
     },
     "execution_count": 25,
     "metadata": {},
     "output_type": "execute_result"
    }
   ],
   "source": [
    "l"
   ],
   "metadata": {
    "collapsed": false,
    "pycharm": {
     "name": "#%%\n"
    }
   }
  },
  {
   "cell_type": "code",
   "execution_count": 15,
   "outputs": [],
   "source": [
    "love_n = pd.read_csv(\"../../grace_fo_stda/physics/params/love_numbers.csv\").values"
   ],
   "metadata": {
    "collapsed": false,
    "pycharm": {
     "name": "#%%\n"
    }
   }
  },
  {
   "cell_type": "code",
   "execution_count": 35,
   "outputs": [],
   "source": [
    "l_range = np.arange(0, 60 + 1)\n",
    "\n",
    "prem = np.float32([(2*l_range+1)/(1+np.interp(l_range, love_n[:, 0], love_n[:, 1]))]).T.reshape(61, 1, 1)"
   ],
   "metadata": {
    "collapsed": false,
    "pycharm": {
     "name": "#%%\n"
    }
   }
  },
  {
   "cell_type": "code",
   "execution_count": 36,
   "outputs": [
    {
     "data": {
      "text/plain": "array([[[  1.       ]],\n\n       [[  2.9211295]],\n\n       [[  7.173601 ]],\n\n       [[  8.684863 ]],\n\n       [[ 10.368664 ]],\n\n       [[ 12.276786 ]],\n\n       [[ 14.270033 ]],\n\n       [[ 16.32209  ]],\n\n       [[ 18.398268 ]],\n\n       [[ 20.474138 ]],\n\n       [[ 22.55639  ]],\n\n       [[ 24.638458 ]],\n\n       [[ 26.709402 ]],\n\n       [[ 28.784649 ]],\n\n       [[ 30.851065 ]],\n\n       [[ 32.908707 ]],\n\n       [[ 34.97986  ]],\n\n       [[ 37.044876 ]],\n\n       [[ 39.103783 ]],\n\n       [[ 41.156605 ]],\n\n       [[ 43.203373 ]],\n\n       [[ 45.258392 ]],\n\n       [[ 47.308662 ]],\n\n       [[ 49.354195 ]],\n\n       [[ 51.395008 ]],\n\n       [[ 53.431114 ]],\n\n       [[ 55.462536 ]],\n\n       [[ 57.489285 ]],\n\n       [[ 59.51138  ]],\n\n       [[ 61.528835 ]],\n\n       [[ 63.541668 ]],\n\n       [[ 65.57719  ]],\n\n       [[ 67.60973  ]],\n\n       [[ 69.63933  ]],\n\n       [[ 71.66598  ]],\n\n       [[ 73.689674 ]],\n\n       [[ 75.710434 ]],\n\n       [[ 77.728264 ]],\n\n       [[ 79.743164 ]],\n\n       [[ 81.75515  ]],\n\n       [[ 83.76422  ]],\n\n       [[ 85.77925  ]],\n\n       [[ 87.79178  ]],\n\n       [[ 89.80182  ]],\n\n       [[ 91.809364 ]],\n\n       [[ 93.81443  ]],\n\n       [[ 95.81702  ]],\n\n       [[ 97.81713  ]],\n\n       [[ 99.81477  ]],\n\n       [[101.80995  ]],\n\n       [[103.80267  ]],\n\n       [[105.82011  ]],\n\n       [[107.83609  ]],\n\n       [[109.850624 ]],\n\n       [[111.86371  ]],\n\n       [[113.87535  ]],\n\n       [[115.88555  ]],\n\n       [[117.8943   ]],\n\n       [[119.90162  ]],\n\n       [[121.90749  ]],\n\n       [[123.911934 ]]], dtype=float32)"
     },
     "execution_count": 36,
     "metadata": {},
     "output_type": "execute_result"
    }
   ],
   "source": [
    "prem"
   ],
   "metadata": {
    "collapsed": false,
    "pycharm": {
     "name": "#%%\n"
    }
   }
  },
  {
   "cell_type": "code",
   "execution_count": 37,
   "outputs": [
    {
     "data": {
      "text/plain": "<matplotlib.image.AxesImage at 0x7f1c8990b9a0>"
     },
     "execution_count": 37,
     "metadata": {},
     "output_type": "execute_result"
    },
    {
     "data": {
      "text/plain": "<Figure size 432x288 with 1 Axes>",
      "image/png": "[encoded data removed]"
     },
     "metadata": {
      "needs_background": "light"
     },
     "output_type": "display_data"
    }
   ],
   "source": [
    "tmp = np.ones([61, 61, 2])\n",
    "plt.imshow(np.multiply(prem, tmp)[:, :, 0])"
   ],
   "metadata": {
    "collapsed": false,
    "pycharm": {
     "name": "#%%\n"
    }
   }
  },
  {
   "cell_type": "code",
   "execution_count": 10,
   "outputs": [],
   "source": [
    "from physics.field import GravityField"
   ],
   "metadata": {
    "collapsed": false,
    "pycharm": {
     "name": "#%%\n"
    }
   }
  },
  {
   "cell_type": "code",
   "execution_count": 11,
   "outputs": [],
   "source": [
    "gravity_processor = GravityField()"
   ],
   "metadata": {
    "collapsed": false,
    "pycharm": {
     "name": "#%%\n"
    }
   }
  },
  {
   "cell_type": "code",
   "execution_count": 12,
   "outputs": [],
   "source": [
    "gravity_processor.load_location_mask(\"GREENLAND\")"
   ],
   "metadata": {
    "collapsed": false,
    "pycharm": {
     "name": "#%%\n"
    }
   }
  },
  {
   "cell_type": "code",
   "execution_count": 13,
   "outputs": [
    {
     "name": "stdout",
     "output_type": "stream",
     "text": [
      "165\n"
     ]
    }
   ],
   "source": [
    "smd = gravity_processor.smd(sc_new)\n",
    "print(len(smd[\"smd_anomaly\"]))"
   ],
   "metadata": {
    "collapsed": false,
    "pycharm": {
     "name": "#%%\n"
    }
   }
  },
  {
   "cell_type": "code",
   "execution_count": 14,
   "outputs": [
    {
     "data": {
      "text/plain": "<matplotlib.colorbar.Colorbar at 0x7f82d9ed1d90>"
     },
     "execution_count": 14,
     "metadata": {},
     "output_type": "execute_result"
    },
    {
     "data": {
      "text/plain": "<Figure size 432x288 with 2 Axes>",
      "image/png": "[encoded data removed]"
     },
     "metadata": {
      "needs_background": "light"
     },
     "output_type": "display_data"
    }
   ],
   "source": [
    "plt.imshow(smd[\"smd_anomaly\"][1])\n",
    "plt.colorbar()"
   ],
   "metadata": {
    "collapsed": false,
    "pycharm": {
     "name": "#%%\n"
    }
   }
  },
  {
   "cell_type": "code",
   "execution_count": 15,
   "outputs": [],
   "source": [
    "import plotly.graph_objects as go"
   ],
   "metadata": {
    "collapsed": false,
    "pycharm": {
     "name": "#%%\n"
    }
   }
  },
  {
   "cell_type": "code",
   "execution_count": 17,
   "outputs": [
    {
     "data": {
      "text/plain": "<Figure size 432x288 with 2 Axes>",
      "image/png": "[encoded data removed]"
     },
     "metadata": {
      "needs_background": "light"
     },
     "output_type": "display_data"
    },
    {
     "data": {
      "application/vnd.plotly.v1+json": {
       "config": {
        "plotlyServerURL": "https://plot.ly"
       },
       "data": [
        {
         "mode": "lines+markers",
         "type": "scatter",
         "x": [
          0.3333333432674408,
          0.4166666567325592,
          0.6666666865348816,
          0.75,
          0.8333333134651184,
          0.9166666865348816,
          1.0,
          1.0833333730697632,
          1.1666666269302368,
          1.25,
          1.3333333730697632,
          1.4166666269302368,
          1.5833333730697632,
          1.6666666269302368,
          1.75,
          1.8333333730697632,
          1.9166666269302368,
          2.0,
          2.0833332538604736,
          2.1666667461395264,
          2.25,
          2.3333332538604736,
          2.4166667461395264,
          2.5,
          2.5833332538604736,
          2.6666667461395264,
          2.75,
          2.8333332538604736,
          2.9166667461395264,
          3.0,
          3.0833332538604736,
          3.1666667461395264,
          3.25,
          3.3333332538604736,
          3.4166667461395264,
          3.5,
          3.5833332538604736,
          3.6666667461395264,
          3.75,
          3.8333332538604736,
          3.9166667461395264,
          4.0,
          4.083333492279053,
          4.166666507720947,
          4.25,
          4.333333492279053,
          4.416666507720947,
          4.5,
          4.583333492279053,
          4.666666507720947,
          4.75,
          4.833333492279053,
          4.916666507720947,
          5.0,
          5.083333492279053,
          5.166666507720947,
          5.25,
          5.333333492279053,
          5.416666507720947,
          5.5,
          5.583333492279053,
          5.666666507720947,
          5.75,
          5.833333492279053,
          5.916666507720947,
          6.0,
          6.083333492279053,
          6.166666507720947,
          6.25,
          6.333333492279053,
          6.416666507720947,
          6.5,
          6.583333492279053,
          6.666666507720947,
          6.75,
          6.833333492279053,
          6.916666507720947,
          7.0,
          7.083333492279053,
          7.166666507720947,
          7.25,
          7.333333492279053,
          7.416666507720947,
          7.5,
          7.583333492279053,
          7.666666507720947,
          7.75,
          7.833333492279053,
          7.916666507720947,
          8.0,
          8.083333015441895,
          8.166666984558105,
          8.25,
          8.333333015441895,
          8.416666984558105,
          8.5,
          8.583333015441895,
          8.666666984558105,
          8.75,
          8.833333015441895,
          8.916666984558105,
          9.0,
          9.166666984558105,
          9.25,
          9.333333015441895,
          9.416666984558105,
          9.583333015441895,
          9.666666984558105,
          9.75,
          9.833333015441895,
          9.833333015441895,
          10.0,
          10.083333015441895,
          10.166666984558105,
          10.25,
          10.25,
          10.5,
          10.583333015441895,
          10.666666984558105,
          10.75,
          10.916666984558105,
          11.0,
          11.083333015441895,
          11.166666984558105,
          11.333333015441895,
          11.416666984558105,
          11.5,
          11.583333015441895,
          11.833333015441895,
          11.916666984558105,
          12.0,
          12.083333015441895,
          12.25,
          12.333333015441895,
          12.416666984558105,
          12.5,
          12.666666984558105,
          12.75,
          12.833333015441895,
          12.916666984558105,
          13.083333015441895,
          13.083333015441895,
          13.166666984558105,
          13.166666984558105,
          13.25,
          13.333333015441895,
          13.333333015441895,
          13.5,
          13.666666984558105,
          13.75,
          14.0,
          14.083333015441895,
          14.083333015441895,
          14.25,
          14.416666984558105,
          14.5,
          14.583333015441895,
          14.666666984558105,
          14.916666984558105,
          15.0,
          15.083333015441895,
          15.25,
          15.333333015441895,
          15.416666984558105,
          15.416666984558105
         ],
         "y": [
          -22.67974090576172,
          -7.642149448394775,
          -23.242029190063477,
          -14.96495246887207,
          -14.552529335021973,
          -22.60811424255371,
          -30.428844451904297,
          -27.998126983642578,
          -14.261422157287598,
          -25.503942489624023,
          -13.237317085266113,
          -10.133858680725098,
          -17.108762741088867,
          -17.1431884765625,
          -18.81655502319336,
          -12.539891242980957,
          -12.417298316955566,
          -16.701004028320312,
          -15.081384658813477,
          -14.798561096191406,
          -13.436456680297852,
          -9.424894332885742,
          -9.103965759277344,
          -19.837329864501953,
          -19.566967010498047,
          -6.711022853851318,
          -13.176368713378906,
          -9.371081352233887,
          -16.56369972229004,
          -7.980935096740723,
          -20.663867950439453,
          -9.343984603881836,
          -14.498842239379883,
          -7.7723612785339355,
          -17.096019744873047,
          -7.6365556716918945,
          -8.95156478881836,
          -12.466421127319336,
          -8.727645874023438,
          -2.4853901863098145,
          -2.912329912185669,
          -12.918007850646973,
          3.1923067569732666,
          4.495013236999512,
          7.6549296379089355,
          7.657395839691162,
          -6.414237022399902,
          -5.710710048675537,
          -9.270210266113281,
          -1.7664719820022583,
          -1.5039794445037842,
          -0.8885238170623779,
          -13.681758880615234,
          4.254583835601807,
          0.2776854336261749,
          -7.403040885925293,
          4.898562908172607,
          -4.231318473815918,
          -5.8509602546691895,
          -19.811662673950195,
          -8.887103080749512,
          -10.207491874694824,
          2.7470014095306396,
          -2.7316596508026123,
          -5.339385509490967,
          -0.5228542685508728,
          -2.9889936447143555,
          -9.633556365966797,
          -9.908659934997559,
          -7.220266819000244,
          -8.171854019165039,
          -12.86193561553955,
          -2.310246229171753,
          6.959798812866211,
          -4.147459983825684,
          1.010465383529663,
          -5.666895866394043,
          -5.2267746925354,
          -9.00454330444336,
          -2.40185546875,
          -7.8166704177856445,
          -9.664532661437988,
          -2.269014358520508,
          -13.756050109863281,
          -1.0765788555145264,
          5.872727394104004,
          8.830021858215332,
          2.8154428005218506,
          4.796945095062256,
          -8.296379089355469,
          -17.219261169433594,
          0.46430015563964844,
          -1.2840265035629272,
          4.731192111968994,
          7.491469383239746,
          11.956225395202637,
          6.126098155975342,
          -3.2246408462524414,
          -8.164236068725586,
          -0.14088106155395508,
          9.569449424743652,
          -0.3132384717464447,
          2.71233868598938,
          -2.549675226211548,
          0.8620123863220215,
          -1.1769155263900757,
          14.169618606567383,
          5.686245441436768,
          13.927682876586914,
          18.290082931518555,
          2.9945578575134277,
          0.30225858092308044,
          -1.3130502700805664,
          0.4591059982776642,
          15.718748092651367,
          10.23827075958252,
          6.5450758934021,
          21.34987449645996,
          18.008176803588867,
          20.445873260498047,
          13.86186408996582,
          11.5051851272583,
          15.524916648864746,
          23.162202835083008,
          -2.8685271739959717,
          8.338512420654297,
          5.841616153717041,
          12.541759490966797,
          17.105587005615234,
          0.9700087904930115,
          4.184330463409424,
          6.700677871704102,
          4.948800086975098,
          11.207311630249023,
          5.236210346221924,
          11.106307983398438,
          9.799616813659668,
          5.3664445877075195,
          0.49381953477859497,
          -3.162964105606079,
          11.360370635986328,
          3.7304017543792725,
          16.292461395263672,
          10.256999015808105,
          6.9515252113342285,
          17.112655639648438,
          14.2026948928833,
          28.717493057250977,
          11.954949378967285,
          18.184173583984375,
          13.234811782836914,
          28.788423538208008,
          9.016718864440918,
          12.732333183288574,
          15.933428764343262,
          15.447526931762695,
          12.984085083007812,
          16.479755401611328,
          53.154178619384766,
          48.90687561035156,
          15.677727699279785,
          11.855111122131348,
          21.32569694519043,
          14.00499439239502,
          16.85436248779297
         ]
        }
       ],
       "layout": {
        "template": {
         "data": {
          "bar": [
           {
            "error_x": {
             "color": "#2a3f5f"
            },
            "error_y": {
             "color": "#2a3f5f"
            },
            "marker": {
             "line": {
              "color": "#E5ECF6",
              "width": 0.5
             }
            },
            "type": "bar"
           }
          ],
          "barpolar": [
           {
            "marker": {
             "line": {
              "color": "#E5ECF6",
              "width": 0.5
             }
            },
            "type": "barpolar"
           }
          ],
          "carpet": [
           {
            "aaxis": {
             "endlinecolor": "#2a3f5f",
             "gridcolor": "white",
             "linecolor": "white",
             "minorgridcolor": "white",
             "startlinecolor": "#2a3f5f"
            },
            "baxis": {
             "endlinecolor": "#2a3f5f",
             "gridcolor": "white",
             "linecolor": "white",
             "minorgridcolor": "white",
             "startlinecolor": "#2a3f5f"
            },
            "type": "carpet"
           }
          ],
          "choropleth": [
           {
            "colorbar": {
             "outlinewidth": 0,
             "ticks": ""
            },
            "type": "choropleth"
           }
          ],
          "contour": [
           {
            "colorbar": {
             "outlinewidth": 0,
             "ticks": ""
            },
            "colorscale": [
             [
              0.0,
              "#0d0887"
             ],
             [
              0.1111111111111111,
              "#46039f"
             ],
             [
              0.2222222222222222,
              "#7201a8"
             ],
             [
              0.3333333333333333,
              "#9c179e"
             ],
             [
              0.4444444444444444,
              "#bd3786"
             ],
             [
              0.5555555555555556,
              "#d8576b"
             ],
             [
              0.6666666666666666,
              "#ed7953"
             ],
             [
              0.7777777777777778,
              "#fb9f3a"
             ],
             [
              0.8888888888888888,
              "#fdca26"
             ],
             [
              1.0,
              "#f0f921"
             ]
            ],
            "type": "contour"
           }
          ],
          "contourcarpet": [
           {
            "colorbar": {
             "outlinewidth": 0,
             "ticks": ""
            },
            "type": "contourcarpet"
           }
          ],
          "heatmap": [
           {
            "colorbar": {
             "outlinewidth": 0,
             "ticks": ""
            },
            "colorscale": [
             [
              0.0,
              "#0d0887"
             ],
             [
              0.1111111111111111,
              "#46039f"
             ],
             [
              0.2222222222222222,
              "#7201a8"
             ],
             [
              0.3333333333333333,
              "#9c179e"
             ],
             [
              0.4444444444444444,
              "#bd3786"
             ],
             [
              0.5555555555555556,
              "#d8576b"
             ],
             [
              0.6666666666666666,
              "#ed7953"
             ],
             [
              0.7777777777777778,
              "#fb9f3a"
             ],
             [
              0.8888888888888888,
              "#fdca26"
             ],
             [
              1.0,
              "#f0f921"
             ]
            ],
            "type": "heatmap"
           }
          ],
          "heatmapgl": [
           {
            "colorbar": {
             "outlinewidth": 0,
             "ticks": ""
            },
            "colorscale": [
             [
              0.0,
              "#0d0887"
             ],
             [
              0.1111111111111111,
              "#46039f"
             ],
             [
              0.2222222222222222,
              "#7201a8"
             ],
             [
              0.3333333333333333,
              "#9c179e"
             ],
             [
              0.4444444444444444,
              "#bd3786"
             ],
             [
              0.5555555555555556,
              "#d8576b"
             ],
             [
              0.6666666666666666,
              "#ed7953"
             ],
             [
              0.7777777777777778,
              "#fb9f3a"
             ],
             [
              0.8888888888888888,
              "#fdca26"
             ],
             [
              1.0,
              "#f0f921"
             ]
            ],
            "type": "heatmapgl"
           }
          ],
          "histogram": [
           {
            "marker": {
             "colorbar": {
              "outlinewidth": 0,
              "ticks": ""
             }
            },
            "type": "histogram"
           }
          ],
          "histogram2d": [
           {
            "colorbar": {
             "outlinewidth": 0,
             "ticks": ""
            },
            "colorscale": [
             [
              0.0,
              "#0d0887"
             ],
             [
              0.1111111111111111,
              "#46039f"
             ],
             [
              0.2222222222222222,
              "#7201a8"
             ],
             [
              0.3333333333333333,
              "#9c179e"
             ],
             [
              0.4444444444444444,
              "#bd3786"
             ],
             [
              0.5555555555555556,
              "#d8576b"
             ],
             [
              0.6666666666666666,
              "#ed7953"
             ],
             [
              0.7777777777777778,
              "#fb9f3a"
             ],
             [
              0.8888888888888888,
              "#fdca26"
             ],
             [
              1.0,
              "#f0f921"
             ]
            ],
            "type": "histogram2d"
           }
          ],
          "histogram2dcontour": [
           {
            "colorbar": {
             "outlinewidth": 0,
             "ticks": ""
            },
            "colorscale": [
             [
              0.0,
              "#0d0887"
             ],
             [
              0.1111111111111111,
              "#46039f"
             ],
             [
              0.2222222222222222,
              "#7201a8"
             ],
             [
              0.3333333333333333,
              "#9c179e"
             ],
             [
              0.4444444444444444,
              "#bd3786"
             ],
             [
              0.5555555555555556,
              "#d8576b"
             ],
             [
              0.6666666666666666,
              "#ed7953"
             ],
             [
              0.7777777777777778,
              "#fb9f3a"
             ],
             [
              0.8888888888888888,
              "#fdca26"
             ],
             [
              1.0,
              "#f0f921"
             ]
            ],
            "type": "histogram2dcontour"
           }
          ],
          "mesh3d": [
           {
            "colorbar": {
             "outlinewidth": 0,
             "ticks": ""
            },
            "type": "mesh3d"
           }
          ],
          "parcoords": [
           {
            "line": {
             "colorbar": {
              "outlinewidth": 0,
              "ticks": ""
             }
            },
            "type": "parcoords"
           }
          ],
          "pie": [
           {
            "automargin": true,
            "type": "pie"
           }
          ],
          "scatter": [
           {
            "marker": {
             "colorbar": {
              "outlinewidth": 0,
              "ticks": ""
             }
            },
            "type": "scatter"
           }
          ],
          "scatter3d": [
           {
            "line": {
             "colorbar": {
              "outlinewidth": 0,
              "ticks": ""
             }
            },
            "marker": {
             "colorbar": {
              "outlinewidth": 0,
              "ticks": ""
             }
            },
            "type": "scatter3d"
           }
          ],
          "scattercarpet": [
           {
            "marker": {
             "colorbar": {
              "outlinewidth": 0,
              "ticks": ""
             }
            },
            "type": "scattercarpet"
           }
          ],
          "scattergeo": [
           {
            "marker": {
             "colorbar": {
              "outlinewidth": 0,
              "ticks": ""
             }
            },
            "type": "scattergeo"
           }
          ],
          "scattergl": [
           {
            "marker": {
             "colorbar": {
              "outlinewidth": 0,
              "ticks": ""
             }
            },
            "type": "scattergl"
           }
          ],
          "scattermapbox": [
           {
            "marker": {
             "colorbar": {
              "outlinewidth": 0,
              "ticks": ""
             }
            },
            "type": "scattermapbox"
           }
          ],
          "scatterpolar": [
           {
            "marker": {
             "colorbar": {
              "outlinewidth": 0,
              "ticks": ""
             }
            },
            "type": "scatterpolar"
           }
          ],
          "scatterpolargl": [
           {
            "marker": {
             "colorbar": {
              "outlinewidth": 0,
              "ticks": ""
             }
            },
            "type": "scatterpolargl"
           }
          ],
          "scatterternary": [
           {
            "marker": {
             "colorbar": {
              "outlinewidth": 0,
              "ticks": ""
             }
            },
            "type": "scatterternary"
           }
          ],
          "surface": [
           {
            "colorbar": {
             "outlinewidth": 0,
             "ticks": ""
            },
            "colorscale": [
             [
              0.0,
              "#0d0887"
             ],
             [
              0.1111111111111111,
              "#46039f"
             ],
             [
              0.2222222222222222,
              "#7201a8"
             ],
             [
              0.3333333333333333,
              "#9c179e"
             ],
             [
              0.4444444444444444,
              "#bd3786"
             ],
             [
              0.5555555555555556,
              "#d8576b"
             ],
             [
              0.6666666666666666,
              "#ed7953"
             ],
             [
              0.7777777777777778,
              "#fb9f3a"
             ],
             [
              0.8888888888888888,
              "#fdca26"
             ],
             [
              1.0,
              "#f0f921"
             ]
            ],
            "type": "surface"
           }
          ],
          "table": [
           {
            "cells": {
             "fill": {
              "color": "#EBF0F8"
             },
             "line": {
              "color": "white"
             }
            },
            "header": {
             "fill": {
              "color": "#C8D4E3"
             },
             "line": {
              "color": "white"
             }
            },
            "type": "table"
           }
          ]
         },
         "layout": {
          "annotationdefaults": {
           "arrowcolor": "#2a3f5f",
           "arrowhead": 0,
           "arrowwidth": 1
          },
          "coloraxis": {
           "colorbar": {
            "outlinewidth": 0,
            "ticks": ""
           }
          },
          "colorscale": {
           "diverging": [
            [
             0,
             "#8e0152"
            ],
            [
             0.1,
             "#c51b7d"
            ],
            [
             0.2,
             "#de77ae"
            ],
            [
             0.3,
             "#f1b6da"
            ],
            [
             0.4,
             "#fde0ef"
            ],
            [
             0.5,
             "#f7f7f7"
            ],
            [
             0.6,
             "#e6f5d0"
            ],
            [
             0.7,
             "#b8e186"
            ],
            [
             0.8,
             "#7fbc41"
            ],
            [
             0.9,
             "#4d9221"
            ],
            [
             1,
             "#276419"
            ]
           ],
           "sequential": [
            [
             0.0,
             "#0d0887"
            ],
            [
             0.1111111111111111,
             "#46039f"
            ],
            [
             0.2222222222222222,
             "#7201a8"
            ],
            [
             0.3333333333333333,
             "#9c179e"
            ],
            [
             0.4444444444444444,
             "#bd3786"
            ],
            [
             0.5555555555555556,
             "#d8576b"
            ],
            [
             0.6666666666666666,
             "#ed7953"
            ],
            [
             0.7777777777777778,
             "#fb9f3a"
            ],
            [
             0.8888888888888888,
             "#fdca26"
            ],
            [
             1.0,
             "#f0f921"
            ]
           ],
           "sequentialminus": [
            [
             0.0,
             "#0d0887"
            ],
            [
             0.1111111111111111,
             "#46039f"
            ],
            [
             0.2222222222222222,
             "#7201a8"
            ],
            [
             0.3333333333333333,
             "#9c179e"
            ],
            [
             0.4444444444444444,
             "#bd3786"
            ],
            [
             0.5555555555555556,
             "#d8576b"
            ],
            [
             0.6666666666666666,
             "#ed7953"
            ],
            [
             0.7777777777777778,
             "#fb9f3a"
            ],
            [
             0.8888888888888888,
             "#fdca26"
            ],
            [
             1.0,
             "#f0f921"
            ]
           ]
          },
          "colorway": [
           "#636efa",
           "#EF553B",
           "#00cc96",
           "#ab63fa",
           "#FFA15A",
           "#19d3f3",
           "#FF6692",
           "#B6E880",
           "#FF97FF",
           "#FECB52"
          ],
          "font": {
           "color": "#2a3f5f"
          },
          "geo": {
           "bgcolor": "white",
           "lakecolor": "white",
           "landcolor": "#E5ECF6",
           "showlakes": true,
           "showland": true,
           "subunitcolor": "white"
          },
          "hoverlabel": {
           "align": "left"
          },
          "hovermode": "closest",
          "mapbox": {
           "style": "light"
          },
          "paper_bgcolor": "white",
          "plot_bgcolor": "#E5ECF6",
          "polar": {
           "angularaxis": {
            "gridcolor": "white",
            "linecolor": "white",
            "ticks": ""
           },
           "bgcolor": "#E5ECF6",
           "radialaxis": {
            "gridcolor": "white",
            "linecolor": "white",
            "ticks": ""
           }
          },
          "scene": {
           "xaxis": {
            "backgroundcolor": "#E5ECF6",
            "gridcolor": "white",
            "gridwidth": 2,
            "linecolor": "white",
            "showbackground": true,
            "ticks": "",
            "zerolinecolor": "white"
           },
           "yaxis": {
            "backgroundcolor": "#E5ECF6",
            "gridcolor": "white",
            "gridwidth": 2,
            "linecolor": "white",
            "showbackground": true,
            "ticks": "",
            "zerolinecolor": "white"
           },
           "zaxis": {
            "backgroundcolor": "#E5ECF6",
            "gridcolor": "white",
            "gridwidth": 2,
            "linecolor": "white",
            "showbackground": true,
            "ticks": "",
            "zerolinecolor": "white"
           }
          },
          "shapedefaults": {
           "line": {
            "color": "#2a3f5f"
           }
          },
          "ternary": {
           "aaxis": {
            "gridcolor": "white",
            "linecolor": "white",
            "ticks": ""
           },
           "baxis": {
            "gridcolor": "white",
            "linecolor": "white",
            "ticks": ""
           },
           "bgcolor": "#E5ECF6",
           "caxis": {
            "gridcolor": "white",
            "linecolor": "white",
            "ticks": ""
           }
          },
          "title": {
           "x": 0.05
          },
          "xaxis": {
           "automargin": true,
           "gridcolor": "white",
           "linecolor": "white",
           "ticks": "",
           "title": {
            "standoff": 15
           },
           "zerolinecolor": "white",
           "zerolinewidth": 2
          },
          "yaxis": {
           "automargin": true,
           "gridcolor": "white",
           "linecolor": "white",
           "ticks": "",
           "title": {
            "standoff": 15
           },
           "zerolinecolor": "white",
           "zerolinewidth": 2
          }
         }
        }
       }
      },
      "text/html": "<div>                            <div id=\"d37a0dea-9150-44d8-8429-22cd30cbdd6e\" class=\"plotly-graph-div\" style=\"height:525px; width:100%;\"></div>            <script type=\"text/javascript\">                require([\"plotly\"], function(Plotly) {                    window.PLOTLYENV=window.PLOTLYENV || {};                                    if (document.getElementById(\"d37a0dea-9150-44d8-8429-22cd30cbdd6e\")) {                    Plotly.newPlot(                        \"d37a0dea-9150-44d8-8429-22cd30cbdd6e\",                        [{\"mode\": \"lines+markers\", \"type\": \"scatter\", \"x\": [0.3333333432674408, 0.4166666567325592, 0.6666666865348816, 0.75, 0.8333333134651184, 0.9166666865348816, 1.0, 1.0833333730697632, 1.1666666269302368, 1.25, 1.3333333730697632, 1.4166666269302368, 1.5833333730697632, 1.6666666269302368, 1.75, 1.8333333730697632, 1.9166666269302368, 2.0, 2.0833332538604736, 2.1666667461395264, 2.25, 2.3333332538604736, 2.4166667461395264, 2.5, 2.5833332538604736, 2.6666667461395264, 2.75, 2.8333332538604736, 2.9166667461395264, 3.0, 3.0833332538604736, 3.1666667461395264, 3.25, 3.3333332538604736, 3.4166667461395264, 3.5, 3.5833332538604736, 3.6666667461395264, 3.75, 3.8333332538604736, 3.9166667461395264, 4.0, 4.083333492279053, 4.166666507720947, 4.25, 4.333333492279053, 4.416666507720947, 4.5, 4.583333492279053, 4.666666507720947, 4.75, 4.833333492279053, 4.916666507720947, 5.0, 5.083333492279053, 5.166666507720947, 5.25, 5.333333492279053, 5.416666507720947, 5.5, 5.583333492279053, 5.666666507720947, 5.75, 5.833333492279053, 5.916666507720947, 6.0, 6.083333492279053, 6.166666507720947, 6.25, 6.333333492279053, 6.416666507720947, 6.5, 6.583333492279053, 6.666666507720947, 6.75, 6.833333492279053, 6.916666507720947, 7.0, 7.083333492279053, 7.166666507720947, 7.25, 7.333333492279053, 7.416666507720947, 7.5, 7.583333492279053, 7.666666507720947, 7.75, 7.833333492279053, 7.916666507720947, 8.0, 8.083333015441895, 8.166666984558105, 8.25, 8.333333015441895, 8.416666984558105, 8.5, 8.583333015441895, 8.666666984558105, 8.75, 8.833333015441895, 8.916666984558105, 9.0, 9.166666984558105, 9.25, 9.333333015441895, 9.416666984558105, 9.583333015441895, 9.666666984558105, 9.75, 9.833333015441895, 9.833333015441895, 10.0, 10.083333015441895, 10.166666984558105, 10.25, 10.25, 10.5, 10.583333015441895, 10.666666984558105, 10.75, 10.916666984558105, 11.0, 11.083333015441895, 11.166666984558105, 11.333333015441895, 11.416666984558105, 11.5, 11.583333015441895, 11.833333015441895, 11.916666984558105, 12.0, 12.083333015441895, 12.25, 12.333333015441895, 12.416666984558105, 12.5, 12.666666984558105, 12.75, 12.833333015441895, 12.916666984558105, 13.083333015441895, 13.083333015441895, 13.166666984558105, 13.166666984558105, 13.25, 13.333333015441895, 13.333333015441895, 13.5, 13.666666984558105, 13.75, 14.0, 14.083333015441895, 14.083333015441895, 14.25, 14.416666984558105, 14.5, 14.583333015441895, 14.666666984558105, 14.916666984558105, 15.0, 15.083333015441895, 15.25, 15.333333015441895, 15.416666984558105, 15.416666984558105], \"y\": [-22.67974090576172, -7.642149448394775, -23.242029190063477, -14.96495246887207, -14.552529335021973, -22.60811424255371, -30.428844451904297, -27.998126983642578, -14.261422157287598, -25.503942489624023, -13.237317085266113, -10.133858680725098, -17.108762741088867, -17.1431884765625, -18.81655502319336, -12.539891242980957, -12.417298316955566, -16.701004028320312, -15.081384658813477, -14.798561096191406, -13.436456680297852, -9.424894332885742, -9.103965759277344, -19.837329864501953, -19.566967010498047, -6.711022853851318, -13.176368713378906, -9.371081352233887, -16.56369972229004, -7.980935096740723, -20.663867950439453, -9.343984603881836, -14.498842239379883, -7.7723612785339355, -17.096019744873047, -7.6365556716918945, -8.95156478881836, -12.466421127319336, -8.727645874023438, -2.4853901863098145, -2.912329912185669, -12.918007850646973, 3.1923067569732666, 4.495013236999512, 7.6549296379089355, 7.657395839691162, -6.414237022399902, -5.710710048675537, -9.270210266113281, -1.7664719820022583, -1.5039794445037842, -0.8885238170623779, -13.681758880615234, 4.254583835601807, 0.2776854336261749, -7.403040885925293, 4.898562908172607, -4.231318473815918, -5.8509602546691895, -19.811662673950195, -8.887103080749512, -10.207491874694824, 2.7470014095306396, -2.7316596508026123, -5.339385509490967, -0.5228542685508728, -2.9889936447143555, -9.633556365966797, -9.908659934997559, -7.220266819000244, -8.171854019165039, -12.86193561553955, -2.310246229171753, 6.959798812866211, -4.147459983825684, 1.010465383529663, -5.666895866394043, -5.2267746925354, -9.00454330444336, -2.40185546875, -7.8166704177856445, -9.664532661437988, -2.269014358520508, -13.756050109863281, -1.0765788555145264, 5.872727394104004, 8.830021858215332, 2.8154428005218506, 4.796945095062256, -8.296379089355469, -17.219261169433594, 0.46430015563964844, -1.2840265035629272, 4.731192111968994, 7.491469383239746, 11.956225395202637, 6.126098155975342, -3.2246408462524414, -8.164236068725586, -0.14088106155395508, 9.569449424743652, -0.3132384717464447, 2.71233868598938, -2.549675226211548, 0.8620123863220215, -1.1769155263900757, 14.169618606567383, 5.686245441436768, 13.927682876586914, 18.290082931518555, 2.9945578575134277, 0.30225858092308044, -1.3130502700805664, 0.4591059982776642, 15.718748092651367, 10.23827075958252, 6.5450758934021, 21.34987449645996, 18.008176803588867, 20.445873260498047, 13.86186408996582, 11.5051851272583, 15.524916648864746, 23.162202835083008, -2.8685271739959717, 8.338512420654297, 5.841616153717041, 12.541759490966797, 17.105587005615234, 0.9700087904930115, 4.184330463409424, 6.700677871704102, 4.948800086975098, 11.207311630249023, 5.236210346221924, 11.106307983398438, 9.799616813659668, 5.3664445877075195, 0.49381953477859497, -3.162964105606079, 11.360370635986328, 3.7304017543792725, 16.292461395263672, 10.256999015808105, 6.9515252113342285, 17.112655639648438, 14.2026948928833, 28.717493057250977, 11.954949378967285, 18.184173583984375, 13.234811782836914, 28.788423538208008, 9.016718864440918, 12.732333183288574, 15.933428764343262, 15.447526931762695, 12.984085083007812, 16.479755401611328, 53.154178619384766, 48.90687561035156, 15.677727699279785, 11.855111122131348, 21.32569694519043, 14.00499439239502, 16.85436248779297]}],                        {\"template\": {\"data\": {\"bar\": [{\"error_x\": {\"color\": \"#2a3f5f\"}, \"error_y\": {\"color\": \"#2a3f5f\"}, \"marker\": {\"line\": {\"color\": \"#E5ECF6\", \"width\": 0.5}}, \"type\": \"bar\"}], \"barpolar\": [{\"marker\": {\"line\": {\"color\": \"#E5ECF6\", \"width\": 0.5}}, \"type\": \"barpolar\"}], \"carpet\": [{\"aaxis\": {\"endlinecolor\": \"#2a3f5f\", \"gridcolor\": \"white\", \"linecolor\": \"white\", \"minorgridcolor\": \"white\", \"startlinecolor\": \"#2a3f5f\"}, \"baxis\": {\"endlinecolor\": \"#2a3f5f\", \"gridcolor\": \"white\", \"linecolor\": \"white\", \"minorgridcolor\": \"white\", \"startlinecolor\": \"#2a3f5f\"}, \"type\": \"carpet\"}], \"choropleth\": [{\"colorbar\": {\"outlinewidth\": 0, \"ticks\": \"\"}, \"type\": \"choropleth\"}], \"contour\": [{\"colorbar\": {\"outlinewidth\": 0, \"ticks\": \"\"}, \"colorscale\": [[0.0, \"#0d0887\"], [0.1111111111111111, \"#46039f\"], [0.2222222222222222, \"#7201a8\"], [0.3333333333333333, \"#9c179e\"], [0.4444444444444444, \"#bd3786\"], [0.5555555555555556, \"#d8576b\"], [0.6666666666666666, \"#ed7953\"], [0.7777777777777778, \"#fb9f3a\"], [0.8888888888888888, \"#fdca26\"], [1.0, \"#f0f921\"]], \"type\": \"contour\"}], \"contourcarpet\": [{\"colorbar\": {\"outlinewidth\": 0, \"ticks\": \"\"}, \"type\": \"contourcarpet\"}], \"heatmap\": [{\"colorbar\": {\"outlinewidth\": 0, \"ticks\": \"\"}, \"colorscale\": [[0.0, \"#0d0887\"], [0.1111111111111111, \"#46039f\"], [0.2222222222222222, \"#7201a8\"], [0.3333333333333333, \"#9c179e\"], [0.4444444444444444, \"#bd3786\"], [0.5555555555555556, \"#d8576b\"], [0.6666666666666666, \"#ed7953\"], [0.7777777777777778, \"#fb9f3a\"], [0.8888888888888888, \"#fdca26\"], [1.0, \"#f0f921\"]], \"type\": \"heatmap\"}], \"heatmapgl\": [{\"colorbar\": {\"outlinewidth\": 0, \"ticks\": \"\"}, \"colorscale\": [[0.0, \"#0d0887\"], [0.1111111111111111, \"#46039f\"], [0.2222222222222222, \"#7201a8\"], [0.3333333333333333, \"#9c179e\"], [0.4444444444444444, \"#bd3786\"], [0.5555555555555556, \"#d8576b\"], [0.6666666666666666, \"#ed7953\"], [0.7777777777777778, \"#fb9f3a\"], [0.8888888888888888, \"#fdca26\"], [1.0, \"#f0f921\"]], \"type\": \"heatmapgl\"}], \"histogram\": [{\"marker\": {\"colorbar\": {\"outlinewidth\": 0, \"ticks\": \"\"}}, \"type\": \"histogram\"}], \"histogram2d\": [{\"colorbar\": {\"outlinewidth\": 0, \"ticks\": \"\"}, \"colorscale\": [[0.0, \"#0d0887\"], [0.1111111111111111, \"#46039f\"], [0.2222222222222222, \"#7201a8\"], [0.3333333333333333, \"#9c179e\"], [0.4444444444444444, \"#bd3786\"], [0.5555555555555556, \"#d8576b\"], [0.6666666666666666, \"#ed7953\"], [0.7777777777777778, \"#fb9f3a\"], [0.8888888888888888, \"#fdca26\"], [1.0, \"#f0f921\"]], \"type\": \"histogram2d\"}], \"histogram2dcontour\": [{\"colorbar\": {\"outlinewidth\": 0, \"ticks\": \"\"}, \"colorscale\": [[0.0, \"#0d0887\"], [0.1111111111111111, \"#46039f\"], [0.2222222222222222, \"#7201a8\"], [0.3333333333333333, \"#9c179e\"], [0.4444444444444444, \"#bd3786\"], [0.5555555555555556, \"#d8576b\"], [0.6666666666666666, \"#ed7953\"], [0.7777777777777778, \"#fb9f3a\"], [0.8888888888888888, \"#fdca26\"], [1.0, \"#f0f921\"]], \"type\": \"histogram2dcontour\"}], \"mesh3d\": [{\"colorbar\": {\"outlinewidth\": 0, \"ticks\": \"\"}, \"type\": \"mesh3d\"}], \"parcoords\": [{\"line\": {\"colorbar\": {\"outlinewidth\": 0, \"ticks\": \"\"}}, \"type\": \"parcoords\"}], \"pie\": [{\"automargin\": true, \"type\": \"pie\"}], \"scatter\": [{\"marker\": {\"colorbar\": {\"outlinewidth\": 0, \"ticks\": \"\"}}, \"type\": \"scatter\"}], \"scatter3d\": [{\"line\": {\"colorbar\": {\"outlinewidth\": 0, \"ticks\": \"\"}}, \"marker\": {\"colorbar\": {\"outlinewidth\": 0, \"ticks\": \"\"}}, \"type\": \"scatter3d\"}], \"scattercarpet\": [{\"marker\": {\"colorbar\": {\"outlinewidth\": 0, \"ticks\": \"\"}}, \"type\": \"scattercarpet\"}], \"scattergeo\": [{\"marker\": {\"colorbar\": {\"outlinewidth\": 0, \"ticks\": \"\"}}, \"type\": \"scattergeo\"}], \"scattergl\": [{\"marker\": {\"colorbar\": {\"outlinewidth\": 0, \"ticks\": \"\"}}, \"type\": \"scattergl\"}], \"scattermapbox\": [{\"marker\": {\"colorbar\": {\"outlinewidth\": 0, \"ticks\": \"\"}}, \"type\": \"scattermapbox\"}], \"scatterpolar\": [{\"marker\": {\"colorbar\": {\"outlinewidth\": 0, \"ticks\": \"\"}}, \"type\": \"scatterpolar\"}], \"scatterpolargl\": [{\"marker\": {\"colorbar\": {\"outlinewidth\": 0, \"ticks\": \"\"}}, \"type\": \"scatterpolargl\"}], \"scatterternary\": [{\"marker\": {\"colorbar\": {\"outlinewidth\": 0, \"ticks\": \"\"}}, \"type\": \"scatterternary\"}], \"surface\": [{\"colorbar\": {\"outlinewidth\": 0, \"ticks\": \"\"}, \"colorscale\": [[0.0, \"#0d0887\"], [0.1111111111111111, \"#46039f\"], [0.2222222222222222, \"#7201a8\"], [0.3333333333333333, \"#9c179e\"], [0.4444444444444444, \"#bd3786\"], [0.5555555555555556, \"#d8576b\"], [0.6666666666666666, \"#ed7953\"], [0.7777777777777778, \"#fb9f3a\"], [0.8888888888888888, \"#fdca26\"], [1.0, \"#f0f921\"]], \"type\": \"surface\"}], \"table\": [{\"cells\": {\"fill\": {\"color\": \"#EBF0F8\"}, \"line\": {\"color\": \"white\"}}, \"header\": {\"fill\": {\"color\": \"#C8D4E3\"}, \"line\": {\"color\": \"white\"}}, \"type\": \"table\"}]}, \"layout\": {\"annotationdefaults\": {\"arrowcolor\": \"#2a3f5f\", \"arrowhead\": 0, \"arrowwidth\": 1}, \"coloraxis\": {\"colorbar\": {\"outlinewidth\": 0, \"ticks\": \"\"}}, \"colorscale\": {\"diverging\": [[0, \"#8e0152\"], [0.1, \"#c51b7d\"], [0.2, \"#de77ae\"], [0.3, \"#f1b6da\"], [0.4, \"#fde0ef\"], [0.5, \"#f7f7f7\"], [0.6, \"#e6f5d0\"], [0.7, \"#b8e186\"], [0.8, \"#7fbc41\"], [0.9, \"#4d9221\"], [1, \"#276419\"]], \"sequential\": [[0.0, \"#0d0887\"], [0.1111111111111111, \"#46039f\"], [0.2222222222222222, \"#7201a8\"], [0.3333333333333333, \"#9c179e\"], [0.4444444444444444, \"#bd3786\"], [0.5555555555555556, \"#d8576b\"], [0.6666666666666666, \"#ed7953\"], [0.7777777777777778, \"#fb9f3a\"], [0.8888888888888888, \"#fdca26\"], [1.0, \"#f0f921\"]], \"sequentialminus\": [[0.0, \"#0d0887\"], [0.1111111111111111, \"#46039f\"], [0.2222222222222222, \"#7201a8\"], [0.3333333333333333, \"#9c179e\"], [0.4444444444444444, \"#bd3786\"], [0.5555555555555556, \"#d8576b\"], [0.6666666666666666, \"#ed7953\"], [0.7777777777777778, \"#fb9f3a\"], [0.8888888888888888, \"#fdca26\"], [1.0, \"#f0f921\"]]}, \"colorway\": [\"#636efa\", \"#EF553B\", \"#00cc96\", \"#ab63fa\", \"#FFA15A\", \"#19d3f3\", \"#FF6692\", \"#B6E880\", \"#FF97FF\", \"#FECB52\"], \"font\": {\"color\": \"#2a3f5f\"}, \"geo\": {\"bgcolor\": \"white\", \"lakecolor\": \"white\", \"landcolor\": \"#E5ECF6\", \"showlakes\": true, \"showland\": true, \"subunitcolor\": \"white\"}, \"hoverlabel\": {\"align\": \"left\"}, \"hovermode\": \"closest\", \"mapbox\": {\"style\": \"light\"}, \"paper_bgcolor\": \"white\", \"plot_bgcolor\": \"#E5ECF6\", \"polar\": {\"angularaxis\": {\"gridcolor\": \"white\", \"linecolor\": \"white\", \"ticks\": \"\"}, \"bgcolor\": \"#E5ECF6\", \"radialaxis\": {\"gridcolor\": \"white\", \"linecolor\": \"white\", \"ticks\": \"\"}}, \"scene\": {\"xaxis\": {\"backgroundcolor\": \"#E5ECF6\", \"gridcolor\": \"white\", \"gridwidth\": 2, \"linecolor\": \"white\", \"showbackground\": true, \"ticks\": \"\", \"zerolinecolor\": \"white\"}, \"yaxis\": {\"backgroundcolor\": \"#E5ECF6\", \"gridcolor\": \"white\", \"gridwidth\": 2, \"linecolor\": \"white\", \"showbackground\": true, \"ticks\": \"\", \"zerolinecolor\": \"white\"}, \"zaxis\": {\"backgroundcolor\": \"#E5ECF6\", \"gridcolor\": \"white\", \"gridwidth\": 2, \"linecolor\": \"white\", \"showbackground\": true, \"ticks\": \"\", \"zerolinecolor\": \"white\"}}, \"shapedefaults\": {\"line\": {\"color\": \"#2a3f5f\"}}, \"ternary\": {\"aaxis\": {\"gridcolor\": \"white\", \"linecolor\": \"white\", \"ticks\": \"\"}, \"baxis\": {\"gridcolor\": \"white\", \"linecolor\": \"white\", \"ticks\": \"\"}, \"bgcolor\": \"#E5ECF6\", \"caxis\": {\"gridcolor\": \"white\", \"linecolor\": \"white\", \"ticks\": \"\"}}, \"title\": {\"x\": 0.05}, \"xaxis\": {\"automargin\": true, \"gridcolor\": \"white\", \"linecolor\": \"white\", \"ticks\": \"\", \"title\": {\"standoff\": 15}, \"zerolinecolor\": \"white\", \"zerolinewidth\": 2}, \"yaxis\": {\"automargin\": true, \"gridcolor\": \"white\", \"linecolor\": \"white\", \"ticks\": \"\", \"title\": {\"standoff\": 15}, \"zerolinecolor\": \"white\", \"zerolinewidth\": 2}}}},                        {\"responsive\": true}                    ).then(function(){\n                            \nvar gd = document.getElementById('d37a0dea-9150-44d8-8429-22cd30cbdd6e');\nvar x = new MutationObserver(function (mutations, observer) {{\n        var display = window.getComputedStyle(gd).display;\n        if (!display || display === 'none') {{\n            console.log([gd, 'removed!']);\n            Plotly.purge(gd);\n            observer.disconnect();\n        }}\n}});\n\n// Listen for the removal of the full notebook cells\nvar notebookContainer = gd.closest('#notebook-container');\nif (notebookContainer) {{\n    x.observe(notebookContainer, {childList: true});\n}}\n\n// Listen for the clearing of the current output cell\nvar outputEl = gd.closest('.output');\nif (outputEl) {{\n    x.observe(outputEl, {childList: true});\n}}\n\n                        })                };                });            </script>        </div>"
     },
     "metadata": {},
     "output_type": "display_data"
    }
   ],
   "source": [
    "data_smd = []\n",
    "pix_idx = 40\n",
    "for i in range(len(smd[\"smd_anomaly\"])):\n",
    "    # if 1 == smd[\"header_info\"][i][\"Start date\"].month:\n",
    "    data_smd.append([smd[\"header_info\"][i][\"Start date\"].year+smd[\"header_info\"][i][\"Start date\"].month/12-2002,\n",
    "                     smd[\"smd_anomaly\"][i][gravity_processor.smd_idx[pix_idx][0], gravity_processor.smd_idx[pix_idx][1]]])\n",
    "    # np.sqrt(np.mean(np.square()))\n",
    "    # print(smd[\"header_info\"][i][\"Start date\"].day)\n",
    "    if i%400 == 0:\n",
    "        # tmp_idx = np.where(smd[\"smd_anomaly\"][i] == 0)\n",
    "        # smd[\"smd_anomaly\"][i][tmp_idx] = np.nan\n",
    "        plt.imshow(smd[\"smd_anomaly\"][i])\n",
    "        plt.title(smd[\"header_info\"][i][\"Start date\"].strftime(\"%m/%d/%Y\"))\n",
    "        plt.colorbar()\n",
    "        plt.show()\n",
    "        # smd[\"smd_anomaly\"][i][tmp_idx] = 0\n",
    "\n",
    "data_smd = np.float32(data_smd)\n",
    "data_smd = data_smd[np.argsort(data_smd[:, 0]), :]\n",
    "def smooth(y, box_pts):\n",
    "    box = np.ones(box_pts)/box_pts\n",
    "    y_smooth = np.convolve(y, box, mode='same')\n",
    "    return y_smooth\n",
    "\n",
    "# val1 = []\n",
    "# for k in np.unique(data_smd[:, 0]):\n",
    "#     val1.append(np.mean(data_smd[np.where(data_smd[:, 0] == k), 1]))\n",
    "fig = go.Figure(data=go.Scatter(x=data_smd[:, 0], y=data_smd[:, 1], mode='lines+markers'))\n",
    "fig.show()"
   ],
   "metadata": {
    "collapsed": false,
    "pycharm": {
     "name": "#%%\n"
    }
   }
  },
  {
   "cell_type": "code",
   "execution_count": 17,
   "outputs": [],
   "source": [
    "import models.eof as model"
   ],
   "metadata": {
    "collapsed": false,
    "pycharm": {
     "name": "#%%\n"
    }
   }
  },
  {
   "cell_type": "code",
   "execution_count": 18,
   "outputs": [],
   "source": [
    "\n",
    "model_obj = model.model(gravity_processor)\n",
    "model_obj.fit(smd)"
   ],
   "metadata": {
    "collapsed": false,
    "pycharm": {
     "name": "#%%\n"
    }
   }
  },
  {
   "cell_type": "code",
   "execution_count": 19,
   "outputs": [
    {
     "data": {
      "text/plain": "<Figure size 432x288 with 1 Axes>",
      "image/png": "[encoded data removed]"
     },
     "metadata": {
      "needs_background": "light"
     },
     "output_type": "display_data"
    }
   ],
   "source": [
    "x = np.ones([np.size(data_smd[:, 0]), 3])\n",
    "x[:, 0] = data_smd[:, 0]+2002\n",
    "x[:, 1] = gravity_processor.lat[pix_idx]\n",
    "x[:, 2] = gravity_processor.long[pix_idx]\n",
    "y = model_obj.reconstruct(x)\n",
    "plt.plot(x[:, 0], y)\n",
    "plt.show()"
   ],
   "metadata": {
    "collapsed": false,
    "pycharm": {
     "name": "#%%\n"
    }
   }
  },
  {
   "cell_type": "code",
   "execution_count": 20,
   "outputs": [
    {
     "data": {
      "application/vnd.plotly.v1+json": {
       "config": {
        "plotlyServerURL": "https://plot.ly"
       },
       "data": [
        {
         "mode": "lines+markers",
         "type": "scatter",
         "x": [
          0.3333333432674408,
          0.4166666567325592,
          0.6666666865348816,
          0.75,
          0.8333333134651184,
          0.9166666865348816,
          1.0,
          1.0833333730697632,
          1.1666666269302368,
          1.25,
          1.3333333730697632,
          1.4166666269302368,
          1.5833333730697632,
          1.6666666269302368,
          1.75,
          1.8333333730697632,
          1.9166666269302368,
          2.0,
          2.0833332538604736,
          2.1666667461395264,
          2.25,
          2.3333332538604736,
          2.4166667461395264,
          2.5,
          2.5833332538604736,
          2.6666667461395264,
          2.75,
          2.8333332538604736,
          2.9166667461395264,
          3.0,
          3.0833332538604736,
          3.1666667461395264,
          3.25,
          3.3333332538604736,
          3.4166667461395264,
          3.5,
          3.5833332538604736,
          3.6666667461395264,
          3.75,
          3.8333332538604736,
          3.9166667461395264,
          4.0,
          4.083333492279053,
          4.166666507720947,
          4.25,
          4.333333492279053,
          4.416666507720947,
          4.5,
          4.583333492279053,
          4.666666507720947,
          4.75,
          4.833333492279053,
          4.916666507720947,
          5.0,
          5.083333492279053,
          5.166666507720947,
          5.25,
          5.333333492279053,
          5.416666507720947,
          5.5,
          5.583333492279053,
          5.666666507720947,
          5.75,
          5.833333492279053,
          5.916666507720947,
          6.0,
          6.083333492279053,
          6.166666507720947,
          6.25,
          6.333333492279053,
          6.416666507720947,
          6.5,
          6.583333492279053,
          6.666666507720947,
          6.75,
          6.833333492279053,
          6.916666507720947,
          7.0,
          7.083333492279053,
          7.166666507720947,
          7.25,
          7.333333492279053,
          7.416666507720947,
          7.5,
          7.583333492279053,
          7.666666507720947,
          7.75,
          7.833333492279053,
          7.916666507720947,
          8.0,
          8.083333015441895,
          8.166666984558105,
          8.25,
          8.333333015441895,
          8.416666984558105,
          8.5,
          8.583333015441895,
          8.666666984558105,
          8.75,
          8.833333015441895,
          8.916666984558105,
          9.0,
          9.166666984558105,
          9.25,
          9.333333015441895,
          9.416666984558105,
          9.583333015441895,
          9.666666984558105,
          9.75,
          9.833333015441895,
          9.833333015441895,
          10.0,
          10.083333015441895,
          10.166666984558105,
          10.25,
          10.25,
          10.5,
          10.583333015441895,
          10.666666984558105,
          10.75,
          10.916666984558105,
          11.0,
          11.083333015441895,
          11.166666984558105,
          11.333333015441895,
          11.416666984558105,
          11.5,
          11.583333015441895,
          11.833333015441895,
          11.916666984558105,
          12.0,
          12.083333015441895,
          12.25,
          12.333333015441895,
          12.416666984558105,
          12.5,
          12.666666984558105,
          12.75,
          12.833333015441895,
          12.916666984558105,
          13.083333015441895,
          13.083333015441895,
          13.166666984558105,
          13.166666984558105,
          13.25,
          13.333333015441895,
          13.333333015441895,
          13.5,
          13.666666984558105,
          13.75,
          14.0,
          14.083333015441895,
          14.083333015441895,
          14.25,
          14.416666984558105,
          14.5,
          14.583333015441895,
          14.666666984558105,
          14.916666984558105,
          15.0,
          15.083333015441895,
          15.25,
          15.333333015441895,
          15.416666984558105,
          15.416666984558105
         ],
         "y": [
          53.678958892822266,
          54.29849624633789,
          55.11043930053711,
          48.639984130859375,
          74.08724975585938,
          75.14376831054688,
          94.32936096191406,
          106.9918212890625,
          63.082862854003906,
          67.32686614990234,
          58.36820602416992,
          74.25486755371094,
          46.390995025634766,
          56.83443069458008,
          66.78661346435547,
          71.19019317626953,
          81.94563293457031,
          72.16638946533203,
          63.69227600097656,
          56.09244155883789,
          66.5005111694336,
          85.92122650146484,
          78.38412475585938,
          65.64867401123047,
          39.52559280395508,
          66.04298400878906,
          48.06028747558594,
          43.712249755859375,
          25.662694931030273,
          46.13135528564453,
          49.058101654052734,
          22.893959045410156,
          53.4416618347168,
          56.30647277832031,
          26.070972442626953,
          30.343341827392578,
          31.29068374633789,
          30.377761840820312,
          30.71441078186035,
          26.124258041381836,
          26.042285919189453,
          43.604026794433594,
          62.720027923583984,
          48.72978973388672,
          77.36181640625,
          53.03952407836914,
          45.803226470947266,
          27.836442947387695,
          47.32717514038086,
          65.9967269897461,
          42.73527908325195,
          28.96332550048828,
          15.708749771118164,
          58.76546096801758,
          42.4041862487793,
          -6.781335830688477,
          30.7342586517334,
          19.76688575744629,
          40.39295196533203,
          54.072288513183594,
          17.3641414642334,
          9.229463577270508,
          9.443053245544434,
          -3.5199134349823,
          25.65277862548828,
          1.4739294052124023,
          23.014663696289062,
          -6.133321762084961,
          18.02269744873047,
          5.846590518951416,
          7.549679279327393,
          59.51903533935547,
          15.68144702911377,
          31.881933212280273,
          19.154333114624023,
          10.189403533935547,
          5.9240546226501465,
          -7.373170375823975,
          24.724933624267578,
          29.36067008972168,
          31.675554275512695,
          20.259143829345703,
          7.455809116363525,
          17.135297775268555,
          17.19330596923828,
          -0.25554919242858887,
          -16.592153549194336,
          -20.75198745727539,
          25.480806350708008,
          11.645638465881348,
          24.733776092529297,
          40.740169525146484,
          10.912939071655273,
          -8.450224876403809,
          -6.87398099899292,
          8.871537208557129,
          -15.086987495422363,
          -3.04657244682312,
          -11.925586700439453,
          -24.201908111572266,
          -12.421575546264648,
          15.50626277923584,
          -25.37162971496582,
          -13.69965648651123,
          -25.2654972076416,
          0.2538387179374695,
          -29.4196720123291,
          -27.89008140563965,
          -45.6766471862793,
          -57.21370315551758,
          -51.65092086791992,
          -43.32352066040039,
          -40.684268951416016,
          -34.76716613769531,
          -52.6566047668457,
          -37.72188949584961,
          -30.756147384643555,
          -59.91727828979492,
          -52.4684944152832,
          -64.9419937133789,
          -71.8833999633789,
          -40.94978332519531,
          -23.761022567749023,
          -24.83195686340332,
          -20.21141815185547,
          -28.05711555480957,
          -7.489160060882568,
          -35.43467712402344,
          -37.56131362915039,
          -28.327064514160156,
          -24.742950439453125,
          -23.203372955322266,
          -41.18539810180664,
          -60.90773391723633,
          -42.57944107055664,
          -38.400733947753906,
          -32.546287536621094,
          -55.819969177246094,
          -59.3669319152832,
          -77.0167007446289,
          -60.20232391357422,
          -50.33201599121094,
          -62.57952880859375,
          -100.43496704101562,
          -73.17967987060547,
          -75.84378814697266,
          -64.01490783691406,
          -118.83314514160156,
          -83.6260986328125,
          -70.57762145996094,
          -131.81797790527344,
          -55.20984649658203,
          -65.10627746582031,
          -55.88087844848633,
          -101.9332046508789,
          -67.94744110107422,
          -74.91472625732422,
          -115.64064025878906,
          -91.91202545166016,
          -95.41500854492188,
          -78.84066009521484,
          -81.65219116210938,
          -98.49344635009766,
          -66.23544311523438,
          -88.78477478027344
         ]
        },
        {
         "mode": "lines",
         "type": "scatter",
         "x": [
          0.3333333432674408,
          0.4166666567325592,
          0.6666666865348816,
          0.75,
          0.8333333134651184,
          0.9166666865348816,
          1.0,
          1.0833333730697632,
          1.1666666269302368,
          1.25,
          1.3333333730697632,
          1.4166666269302368,
          1.5833333730697632,
          1.6666666269302368,
          1.75,
          1.8333333730697632,
          1.9166666269302368,
          2.0,
          2.0833332538604736,
          2.1666667461395264,
          2.25,
          2.3333332538604736,
          2.4166667461395264,
          2.5,
          2.5833332538604736,
          2.6666667461395264,
          2.75,
          2.8333332538604736,
          2.9166667461395264,
          3.0,
          3.0833332538604736,
          3.1666667461395264,
          3.25,
          3.3333332538604736,
          3.4166667461395264,
          3.5,
          3.5833332538604736,
          3.6666667461395264,
          3.75,
          3.8333332538604736,
          3.9166667461395264,
          4.0,
          4.083333492279053,
          4.166666507720947,
          4.25,
          4.333333492279053,
          4.416666507720947,
          4.5,
          4.583333492279053,
          4.666666507720947,
          4.75,
          4.833333492279053,
          4.916666507720947,
          5.0,
          5.083333492279053,
          5.166666507720947,
          5.25,
          5.333333492279053,
          5.416666507720947,
          5.5,
          5.583333492279053,
          5.666666507720947,
          5.75,
          5.833333492279053,
          5.916666507720947,
          6.0,
          6.083333492279053,
          6.166666507720947,
          6.25,
          6.333333492279053,
          6.416666507720947,
          6.5,
          6.583333492279053,
          6.666666507720947,
          6.75,
          6.833333492279053,
          6.916666507720947,
          7.0,
          7.083333492279053,
          7.166666507720947,
          7.25,
          7.333333492279053,
          7.416666507720947,
          7.5,
          7.583333492279053,
          7.666666507720947,
          7.75,
          7.833333492279053,
          7.916666507720947,
          8.0,
          8.083333015441895,
          8.166666984558105,
          8.25,
          8.333333015441895,
          8.416666984558105,
          8.5,
          8.583333015441895,
          8.666666984558105,
          8.75,
          8.833333015441895,
          8.916666984558105,
          9.0,
          9.166666984558105,
          9.25,
          9.333333015441895,
          9.416666984558105,
          9.583333015441895,
          9.666666984558105,
          9.75,
          9.833333015441895,
          9.833333015441895,
          10.0,
          10.083333015441895,
          10.166666984558105,
          10.25,
          10.25,
          10.5,
          10.583333015441895,
          10.666666984558105,
          10.75,
          10.916666984558105,
          11.0,
          11.083333015441895,
          11.166666984558105,
          11.333333015441895,
          11.416666984558105,
          11.5,
          11.583333015441895,
          11.833333015441895,
          11.916666984558105,
          12.0,
          12.083333015441895,
          12.25,
          12.333333015441895,
          12.416666984558105,
          12.5,
          12.666666984558105,
          12.75,
          12.833333015441895,
          12.916666984558105,
          13.083333015441895,
          13.083333015441895,
          13.166666984558105,
          13.166666984558105,
          13.25,
          13.333333015441895,
          13.333333015441895,
          13.5,
          13.666666984558105,
          13.75,
          14.0,
          14.083333015441895,
          14.083333015441895,
          14.25,
          14.416666984558105,
          14.5,
          14.583333015441895,
          14.666666984558105,
          14.916666984558105,
          15.0,
          15.083333015441895,
          15.25,
          15.333333015441895,
          15.416666984558105,
          15.416666984558105
         ],
         "y": [
          54.20867340087891,
          54.504884033203126,
          54.912269554138184,
          50.58275547027588,
          74.9140493774414,
          76.02509002685547,
          96.25126823425293,
          108.57912910461425,
          64.38339481353759,
          67.6428959274292,
          59.59573554992676,
          74.04802906036377,
          47.34603275299072,
          57.96741516113281,
          67.39553546905518,
          71.384970703125,
          81.75210510253906,
          72.94177726745606,
          63.89270149230957,
          56.99005573272705,
          67.31819290161133,
          86.46783630371094,
          79.30179336547852,
          66.74805229187012,
          39.906998786926266,
          66.68869903564453,
          48.42008163452149,
          44.05967826843262,
          26.115251502990724,
          46.46846202850342,
          49.304670600891114,
          22.998156661987306,
          54.02092136383057,
          56.22977302551269,
          26.48636390686035,
          30.661516399383544,
          31.168675861358643,
          30.553096332550048,
          30.783489303588865,
          26.326568412780762,
          25.999322414398193,
          43.67767574310303,
          63.32115123748779,
          48.78864734649658,
          77.83438552856445,
          53.44661045074463,
          46.18256145477295,
          28.423731441497804,
          47.53016544342041,
          66.40043586730957,
          43.10605865478516,
          28.97858350753784,
          15.791905651092529,
          58.82332992553711,
          42.81796642303467,
          -6.84801221370697,
          30.86320957183838,
          19.778766555786135,
          40.50894653320312,
          54.3973210144043,
          17.54112392425537,
          9.229116506576538,
          9.358640451431274,
          -3.6596622920036315,
          25.6180877494812,
          1.5591389012336732,
          23.02049222946167,
          -6.08273675441742,
          17.94159248352051,
          5.778626832962036,
          7.581166071891785,
          59.528992614746095,
          15.67426368713379,
          31.869435272216798,
          19.096481170654297,
          10.294719314575195,
          5.85094141960144,
          -7.486197581291199,
          24.883454856872557,
          29.580368728637694,
          31.66604404449463,
          20.37140396118164,
          7.546999320983887,
          17.21513011932373,
          17.223622856140135,
          -0.40306891202926637,
          -16.89245107650757,
          -20.778887901306152,
          25.847963829040527,
          11.615621929168702,
          24.757920093536377,
          40.76746334075928,
          10.809093465805054,
          -8.524370732307434,
          -7.048358268737793,
          8.665267224311828,
          -15.370831537246705,
          -3.1720308232307435,
          -12.026573133468627,
          -24.24652032852173,
          -12.662671461105347,
          15.28719570159912,
          -25.660792694091796,
          -13.932897310256958,
          -25.243891315460203,
          0.07586052596569061,
          -29.379410991668703,
          -28.149430637359618,
          -46.112706680297855,
          -54.26601373036703,
          -54.26601373036703,
          -43.07386016845703,
          -40.96998748779297,
          -35.14313720703125,
          -46.2910129585266,
          -46.2910129585266,
          -30.994670085906982,
          -60.013597373962405,
          -52.840507621765134,
          -65.3782633972168,
          -71.73018295288085,
          -41.32638526916504,
          -24.04062568664551,
          -24.67919563293457,
          -20.340483531951904,
          -28.172630271911622,
          -7.73294376373291,
          -36.02959842681885,
          -37.261789894104005,
          -28.443896102905274,
          -24.75170555114746,
          -23.619713726043702,
          -41.716490592956546,
          -61.27884613037109,
          -43.15160499572754,
          -38.780617485046385,
          -33.01428478240967,
          -56.43417320251465,
          -59.52798484802246,
          -77.8909775543213,
          -55.70392366282146,
          -55.70392366282146,
          -82.91383214569092,
          -82.91383214569092,
          -72.77544320424397,
          -69.27989770253497,
          -69.27989770253497,
          -119.76321739196777,
          -84.59930282592774,
          -71.61587783813476,
          -132.6898648071289,
          -59.982892239888514,
          -59.982892239888514,
          -57.18687117894491,
          -102.64356979370118,
          -68.64377792358398,
          -75.7311897277832,
          -116.38097312927246,
          -92.8405551147461,
          -95.31296417236328,
          -79.76000221252441,
          -81.54414245605469,
          -98.17806034851074,
          -77.60157845052086,
          -77.60157845052086
         ]
        }
       ],
       "layout": {
        "template": {
         "data": {
          "bar": [
           {
            "error_x": {
             "color": "#2a3f5f"
            },
            "error_y": {
             "color": "#2a3f5f"
            },
            "marker": {
             "line": {
              "color": "#E5ECF6",
              "width": 0.5
             }
            },
            "type": "bar"
           }
          ],
          "barpolar": [
           {
            "marker": {
             "line": {
              "color": "#E5ECF6",
              "width": 0.5
             }
            },
            "type": "barpolar"
           }
          ],
          "carpet": [
           {
            "aaxis": {
             "endlinecolor": "#2a3f5f",
             "gridcolor": "white",
             "linecolor": "white",
             "minorgridcolor": "white",
             "startlinecolor": "#2a3f5f"
            },
            "baxis": {
             "endlinecolor": "#2a3f5f",
             "gridcolor": "white",
             "linecolor": "white",
             "minorgridcolor": "white",
             "startlinecolor": "#2a3f5f"
            },
            "type": "carpet"
           }
          ],
          "choropleth": [
           {
            "colorbar": {
             "outlinewidth": 0,
             "ticks": ""
            },
            "type": "choropleth"
           }
          ],
          "contour": [
           {
            "colorbar": {
             "outlinewidth": 0,
             "ticks": ""
            },
            "colorscale": [
             [
              0.0,
              "#0d0887"
             ],
             [
              0.1111111111111111,
              "#46039f"
             ],
             [
              0.2222222222222222,
              "#7201a8"
             ],
             [
              0.3333333333333333,
              "#9c179e"
             ],
             [
              0.4444444444444444,
              "#bd3786"
             ],
             [
              0.5555555555555556,
              "#d8576b"
             ],
             [
              0.6666666666666666,
              "#ed7953"
             ],
             [
              0.7777777777777778,
              "#fb9f3a"
             ],
             [
              0.8888888888888888,
              "#fdca26"
             ],
             [
              1.0,
              "#f0f921"
             ]
            ],
            "type": "contour"
           }
          ],
          "contourcarpet": [
           {
            "colorbar": {
             "outlinewidth": 0,
             "ticks": ""
            },
            "type": "contourcarpet"
           }
          ],
          "heatmap": [
           {
            "colorbar": {
             "outlinewidth": 0,
             "ticks": ""
            },
            "colorscale": [
             [
              0.0,
              "#0d0887"
             ],
             [
              0.1111111111111111,
              "#46039f"
             ],
             [
              0.2222222222222222,
              "#7201a8"
             ],
             [
              0.3333333333333333,
              "#9c179e"
             ],
             [
              0.4444444444444444,
              "#bd3786"
             ],
             [
              0.5555555555555556,
              "#d8576b"
             ],
             [
              0.6666666666666666,
              "#ed7953"
             ],
             [
              0.7777777777777778,
              "#fb9f3a"
             ],
             [
              0.8888888888888888,
              "#fdca26"
             ],
             [
              1.0,
              "#f0f921"
             ]
            ],
            "type": "heatmap"
           }
          ],
          "heatmapgl": [
           {
            "colorbar": {
             "outlinewidth": 0,
             "ticks": ""
            },
            "colorscale": [
             [
              0.0,
              "#0d0887"
             ],
             [
              0.1111111111111111,
              "#46039f"
             ],
             [
              0.2222222222222222,
              "#7201a8"
             ],
             [
              0.3333333333333333,
              "#9c179e"
             ],
             [
              0.4444444444444444,
              "#bd3786"
             ],
             [
              0.5555555555555556,
              "#d8576b"
             ],
             [
              0.6666666666666666,
              "#ed7953"
             ],
             [
              0.7777777777777778,
              "#fb9f3a"
             ],
             [
              0.8888888888888888,
              "#fdca26"
             ],
             [
              1.0,
              "#f0f921"
             ]
            ],
            "type": "heatmapgl"
           }
          ],
          "histogram": [
           {
            "marker": {
             "colorbar": {
              "outlinewidth": 0,
              "ticks": ""
             }
            },
            "type": "histogram"
           }
          ],
          "histogram2d": [
           {
            "colorbar": {
             "outlinewidth": 0,
             "ticks": ""
            },
            "colorscale": [
             [
              0.0,
              "#0d0887"
             ],
             [
              0.1111111111111111,
              "#46039f"
             ],
             [
              0.2222222222222222,
              "#7201a8"
             ],
             [
              0.3333333333333333,
              "#9c179e"
             ],
             [
              0.4444444444444444,
              "#bd3786"
             ],
             [
              0.5555555555555556,
              "#d8576b"
             ],
             [
              0.6666666666666666,
              "#ed7953"
             ],
             [
              0.7777777777777778,
              "#fb9f3a"
             ],
             [
              0.8888888888888888,
              "#fdca26"
             ],
             [
              1.0,
              "#f0f921"
             ]
            ],
            "type": "histogram2d"
           }
          ],
          "histogram2dcontour": [
           {
            "colorbar": {
             "outlinewidth": 0,
             "ticks": ""
            },
            "colorscale": [
             [
              0.0,
              "#0d0887"
             ],
             [
              0.1111111111111111,
              "#46039f"
             ],
             [
              0.2222222222222222,
              "#7201a8"
             ],
             [
              0.3333333333333333,
              "#9c179e"
             ],
             [
              0.4444444444444444,
              "#bd3786"
             ],
             [
              0.5555555555555556,
              "#d8576b"
             ],
             [
              0.6666666666666666,
              "#ed7953"
             ],
             [
              0.7777777777777778,
              "#fb9f3a"
             ],
             [
              0.8888888888888888,
              "#fdca26"
             ],
             [
              1.0,
              "#f0f921"
             ]
            ],
            "type": "histogram2dcontour"
           }
          ],
          "mesh3d": [
           {
            "colorbar": {
             "outlinewidth": 0,
             "ticks": ""
            },
            "type": "mesh3d"
           }
          ],
          "parcoords": [
           {
            "line": {
             "colorbar": {
              "outlinewidth": 0,
              "ticks": ""
             }
            },
            "type": "parcoords"
           }
          ],
          "pie": [
           {
            "automargin": true,
            "type": "pie"
           }
          ],
          "scatter": [
           {
            "marker": {
             "colorbar": {
              "outlinewidth": 0,
              "ticks": ""
             }
            },
            "type": "scatter"
           }
          ],
          "scatter3d": [
           {
            "line": {
             "colorbar": {
              "outlinewidth": 0,
              "ticks": ""
             }
            },
            "marker": {
             "colorbar": {
              "outlinewidth": 0,
              "ticks": ""
             }
            },
            "type": "scatter3d"
           }
          ],
          "scattercarpet": [
           {
            "marker": {
             "colorbar": {
              "outlinewidth": 0,
              "ticks": ""
             }
            },
            "type": "scattercarpet"
           }
          ],
          "scattergeo": [
           {
            "marker": {
             "colorbar": {
              "outlinewidth": 0,
              "ticks": ""
             }
            },
            "type": "scattergeo"
           }
          ],
          "scattergl": [
           {
            "marker": {
             "colorbar": {
              "outlinewidth": 0,
              "ticks": ""
             }
            },
            "type": "scattergl"
           }
          ],
          "scattermapbox": [
           {
            "marker": {
             "colorbar": {
              "outlinewidth": 0,
              "ticks": ""
             }
            },
            "type": "scattermapbox"
           }
          ],
          "scatterpolar": [
           {
            "marker": {
             "colorbar": {
              "outlinewidth": 0,
              "ticks": ""
             }
            },
            "type": "scatterpolar"
           }
          ],
          "scatterpolargl": [
           {
            "marker": {
             "colorbar": {
              "outlinewidth": 0,
              "ticks": ""
             }
            },
            "type": "scatterpolargl"
           }
          ],
          "scatterternary": [
           {
            "marker": {
             "colorbar": {
              "outlinewidth": 0,
              "ticks": ""
             }
            },
            "type": "scatterternary"
           }
          ],
          "surface": [
           {
            "colorbar": {
             "outlinewidth": 0,
             "ticks": ""
            },
            "colorscale": [
             [
              0.0,
              "#0d0887"
             ],
             [
              0.1111111111111111,
              "#46039f"
             ],
             [
              0.2222222222222222,
              "#7201a8"
             ],
             [
              0.3333333333333333,
              "#9c179e"
             ],
             [
              0.4444444444444444,
              "#bd3786"
             ],
             [
              0.5555555555555556,
              "#d8576b"
             ],
             [
              0.6666666666666666,
              "#ed7953"
             ],
             [
              0.7777777777777778,
              "#fb9f3a"
             ],
             [
              0.8888888888888888,
              "#fdca26"
             ],
             [
              1.0,
              "#f0f921"
             ]
            ],
            "type": "surface"
           }
          ],
          "table": [
           {
            "cells": {
             "fill": {
              "color": "#EBF0F8"
             },
             "line": {
              "color": "white"
             }
            },
            "header": {
             "fill": {
              "color": "#C8D4E3"
             },
             "line": {
              "color": "white"
             }
            },
            "type": "table"
           }
          ]
         },
         "layout": {
          "annotationdefaults": {
           "arrowcolor": "#2a3f5f",
           "arrowhead": 0,
           "arrowwidth": 1
          },
          "coloraxis": {
           "colorbar": {
            "outlinewidth": 0,
            "ticks": ""
           }
          },
          "colorscale": {
           "diverging": [
            [
             0,
             "#8e0152"
            ],
            [
             0.1,
             "#c51b7d"
            ],
            [
             0.2,
             "#de77ae"
            ],
            [
             0.3,
             "#f1b6da"
            ],
            [
             0.4,
             "#fde0ef"
            ],
            [
             0.5,
             "#f7f7f7"
            ],
            [
             0.6,
             "#e6f5d0"
            ],
            [
             0.7,
             "#b8e186"
            ],
            [
             0.8,
             "#7fbc41"
            ],
            [
             0.9,
             "#4d9221"
            ],
            [
             1,
             "#276419"
            ]
           ],
           "sequential": [
            [
             0.0,
             "#0d0887"
            ],
            [
             0.1111111111111111,
             "#46039f"
            ],
            [
             0.2222222222222222,
             "#7201a8"
            ],
            [
             0.3333333333333333,
             "#9c179e"
            ],
            [
             0.4444444444444444,
             "#bd3786"
            ],
            [
             0.5555555555555556,
             "#d8576b"
            ],
            [
             0.6666666666666666,
             "#ed7953"
            ],
            [
             0.7777777777777778,
             "#fb9f3a"
            ],
            [
             0.8888888888888888,
             "#fdca26"
            ],
            [
             1.0,
             "#f0f921"
            ]
           ],
           "sequentialminus": [
            [
             0.0,
             "#0d0887"
            ],
            [
             0.1111111111111111,
             "#46039f"
            ],
            [
             0.2222222222222222,
             "#7201a8"
            ],
            [
             0.3333333333333333,
             "#9c179e"
            ],
            [
             0.4444444444444444,
             "#bd3786"
            ],
            [
             0.5555555555555556,
             "#d8576b"
            ],
            [
             0.6666666666666666,
             "#ed7953"
            ],
            [
             0.7777777777777778,
             "#fb9f3a"
            ],
            [
             0.8888888888888888,
             "#fdca26"
            ],
            [
             1.0,
             "#f0f921"
            ]
           ]
          },
          "colorway": [
           "#636efa",
           "#EF553B",
           "#00cc96",
           "#ab63fa",
           "#FFA15A",
           "#19d3f3",
           "#FF6692",
           "#B6E880",
           "#FF97FF",
           "#FECB52"
          ],
          "font": {
           "color": "#2a3f5f"
          },
          "geo": {
           "bgcolor": "white",
           "lakecolor": "white",
           "landcolor": "#E5ECF6",
           "showlakes": true,
           "showland": true,
           "subunitcolor": "white"
          },
          "hoverlabel": {
           "align": "left"
          },
          "hovermode": "closest",
          "mapbox": {
           "style": "light"
          },
          "paper_bgcolor": "white",
          "plot_bgcolor": "#E5ECF6",
          "polar": {
           "angularaxis": {
            "gridcolor": "white",
            "linecolor": "white",
            "ticks": ""
           },
           "bgcolor": "#E5ECF6",
           "radialaxis": {
            "gridcolor": "white",
            "linecolor": "white",
            "ticks": ""
           }
          },
          "scene": {
           "xaxis": {
            "backgroundcolor": "#E5ECF6",
            "gridcolor": "white",
            "gridwidth": 2,
            "linecolor": "white",
            "showbackground": true,
            "ticks": "",
            "zerolinecolor": "white"
           },
           "yaxis": {
            "backgroundcolor": "#E5ECF6",
            "gridcolor": "white",
            "gridwidth": 2,
            "linecolor": "white",
            "showbackground": true,
            "ticks": "",
            "zerolinecolor": "white"
           },
           "zaxis": {
            "backgroundcolor": "#E5ECF6",
            "gridcolor": "white",
            "gridwidth": 2,
            "linecolor": "white",
            "showbackground": true,
            "ticks": "",
            "zerolinecolor": "white"
           }
          },
          "shapedefaults": {
           "line": {
            "color": "#2a3f5f"
           }
          },
          "ternary": {
           "aaxis": {
            "gridcolor": "white",
            "linecolor": "white",
            "ticks": ""
           },
           "baxis": {
            "gridcolor": "white",
            "linecolor": "white",
            "ticks": ""
           },
           "bgcolor": "#E5ECF6",
           "caxis": {
            "gridcolor": "white",
            "linecolor": "white",
            "ticks": ""
           }
          },
          "title": {
           "x": 0.05
          },
          "xaxis": {
           "automargin": true,
           "gridcolor": "white",
           "linecolor": "white",
           "ticks": "",
           "title": {
            "standoff": 15
           },
           "zerolinecolor": "white",
           "zerolinewidth": 2
          },
          "yaxis": {
           "automargin": true,
           "gridcolor": "white",
           "linecolor": "white",
           "ticks": "",
           "title": {
            "standoff": 15
           },
           "zerolinecolor": "white",
           "zerolinewidth": 2
          }
         }
        }
       }
      },
      "text/html": "<div>                            <div id=\"8da04577-2318-4ba8-b6d3-ed37290dd40d\" class=\"plotly-graph-div\" style=\"height:525px; width:100%;\"></div>            <script type=\"text/javascript\">                require([\"plotly\"], function(Plotly) {                    window.PLOTLYENV=window.PLOTLYENV || {};                                    if (document.getElementById(\"8da04577-2318-4ba8-b6d3-ed37290dd40d\")) {                    Plotly.newPlot(                        \"8da04577-2318-4ba8-b6d3-ed37290dd40d\",                        [{\"mode\": \"lines+markers\", \"type\": \"scatter\", \"x\": [0.3333333432674408, 0.4166666567325592, 0.6666666865348816, 0.75, 0.8333333134651184, 0.9166666865348816, 1.0, 1.0833333730697632, 1.1666666269302368, 1.25, 1.3333333730697632, 1.4166666269302368, 1.5833333730697632, 1.6666666269302368, 1.75, 1.8333333730697632, 1.9166666269302368, 2.0, 2.0833332538604736, 2.1666667461395264, 2.25, 2.3333332538604736, 2.4166667461395264, 2.5, 2.5833332538604736, 2.6666667461395264, 2.75, 2.8333332538604736, 2.9166667461395264, 3.0, 3.0833332538604736, 3.1666667461395264, 3.25, 3.3333332538604736, 3.4166667461395264, 3.5, 3.5833332538604736, 3.6666667461395264, 3.75, 3.8333332538604736, 3.9166667461395264, 4.0, 4.083333492279053, 4.166666507720947, 4.25, 4.333333492279053, 4.416666507720947, 4.5, 4.583333492279053, 4.666666507720947, 4.75, 4.833333492279053, 4.916666507720947, 5.0, 5.083333492279053, 5.166666507720947, 5.25, 5.333333492279053, 5.416666507720947, 5.5, 5.583333492279053, 5.666666507720947, 5.75, 5.833333492279053, 5.916666507720947, 6.0, 6.083333492279053, 6.166666507720947, 6.25, 6.333333492279053, 6.416666507720947, 6.5, 6.583333492279053, 6.666666507720947, 6.75, 6.833333492279053, 6.916666507720947, 7.0, 7.083333492279053, 7.166666507720947, 7.25, 7.333333492279053, 7.416666507720947, 7.5, 7.583333492279053, 7.666666507720947, 7.75, 7.833333492279053, 7.916666507720947, 8.0, 8.083333015441895, 8.166666984558105, 8.25, 8.333333015441895, 8.416666984558105, 8.5, 8.583333015441895, 8.666666984558105, 8.75, 8.833333015441895, 8.916666984558105, 9.0, 9.166666984558105, 9.25, 9.333333015441895, 9.416666984558105, 9.583333015441895, 9.666666984558105, 9.75, 9.833333015441895, 9.833333015441895, 10.0, 10.083333015441895, 10.166666984558105, 10.25, 10.25, 10.5, 10.583333015441895, 10.666666984558105, 10.75, 10.916666984558105, 11.0, 11.083333015441895, 11.166666984558105, 11.333333015441895, 11.416666984558105, 11.5, 11.583333015441895, 11.833333015441895, 11.916666984558105, 12.0, 12.083333015441895, 12.25, 12.333333015441895, 12.416666984558105, 12.5, 12.666666984558105, 12.75, 12.833333015441895, 12.916666984558105, 13.083333015441895, 13.083333015441895, 13.166666984558105, 13.166666984558105, 13.25, 13.333333015441895, 13.333333015441895, 13.5, 13.666666984558105, 13.75, 14.0, 14.083333015441895, 14.083333015441895, 14.25, 14.416666984558105, 14.5, 14.583333015441895, 14.666666984558105, 14.916666984558105, 15.0, 15.083333015441895, 15.25, 15.333333015441895, 15.416666984558105, 15.416666984558105], \"y\": [53.678958892822266, 54.29849624633789, 55.11043930053711, 48.639984130859375, 74.08724975585938, 75.14376831054688, 94.32936096191406, 106.9918212890625, 63.082862854003906, 67.32686614990234, 58.36820602416992, 74.25486755371094, 46.390995025634766, 56.83443069458008, 66.78661346435547, 71.19019317626953, 81.94563293457031, 72.16638946533203, 63.69227600097656, 56.09244155883789, 66.5005111694336, 85.92122650146484, 78.38412475585938, 65.64867401123047, 39.52559280395508, 66.04298400878906, 48.06028747558594, 43.712249755859375, 25.662694931030273, 46.13135528564453, 49.058101654052734, 22.893959045410156, 53.4416618347168, 56.30647277832031, 26.070972442626953, 30.343341827392578, 31.29068374633789, 30.377761840820312, 30.71441078186035, 26.124258041381836, 26.042285919189453, 43.604026794433594, 62.720027923583984, 48.72978973388672, 77.36181640625, 53.03952407836914, 45.803226470947266, 27.836442947387695, 47.32717514038086, 65.9967269897461, 42.73527908325195, 28.96332550048828, 15.708749771118164, 58.76546096801758, 42.4041862487793, -6.781335830688477, 30.7342586517334, 19.76688575744629, 40.39295196533203, 54.072288513183594, 17.3641414642334, 9.229463577270508, 9.443053245544434, -3.5199134349823, 25.65277862548828, 1.4739294052124023, 23.014663696289062, -6.133321762084961, 18.02269744873047, 5.846590518951416, 7.549679279327393, 59.51903533935547, 15.68144702911377, 31.881933212280273, 19.154333114624023, 10.189403533935547, 5.9240546226501465, -7.373170375823975, 24.724933624267578, 29.36067008972168, 31.675554275512695, 20.259143829345703, 7.455809116363525, 17.135297775268555, 17.19330596923828, -0.25554919242858887, -16.592153549194336, -20.75198745727539, 25.480806350708008, 11.645638465881348, 24.733776092529297, 40.740169525146484, 10.912939071655273, -8.450224876403809, -6.87398099899292, 8.871537208557129, -15.086987495422363, -3.04657244682312, -11.925586700439453, -24.201908111572266, -12.421575546264648, 15.50626277923584, -25.37162971496582, -13.69965648651123, -25.2654972076416, 0.2538387179374695, -29.4196720123291, -27.89008140563965, -45.6766471862793, -57.21370315551758, -51.65092086791992, -43.32352066040039, -40.684268951416016, -34.76716613769531, -52.6566047668457, -37.72188949584961, -30.756147384643555, -59.91727828979492, -52.4684944152832, -64.9419937133789, -71.8833999633789, -40.94978332519531, -23.761022567749023, -24.83195686340332, -20.21141815185547, -28.05711555480957, -7.489160060882568, -35.43467712402344, -37.56131362915039, -28.327064514160156, -24.742950439453125, -23.203372955322266, -41.18539810180664, -60.90773391723633, -42.57944107055664, -38.400733947753906, -32.546287536621094, -55.819969177246094, -59.3669319152832, -77.0167007446289, -60.20232391357422, -50.33201599121094, -62.57952880859375, -100.43496704101562, -73.17967987060547, -75.84378814697266, -64.01490783691406, -118.83314514160156, -83.6260986328125, -70.57762145996094, -131.81797790527344, -55.20984649658203, -65.10627746582031, -55.88087844848633, -101.9332046508789, -67.94744110107422, -74.91472625732422, -115.64064025878906, -91.91202545166016, -95.41500854492188, -78.84066009521484, -81.65219116210938, -98.49344635009766, -66.23544311523438, -88.78477478027344]}, {\"mode\": \"lines\", \"type\": \"scatter\", \"x\": [0.3333333432674408, 0.4166666567325592, 0.6666666865348816, 0.75, 0.8333333134651184, 0.9166666865348816, 1.0, 1.0833333730697632, 1.1666666269302368, 1.25, 1.3333333730697632, 1.4166666269302368, 1.5833333730697632, 1.6666666269302368, 1.75, 1.8333333730697632, 1.9166666269302368, 2.0, 2.0833332538604736, 2.1666667461395264, 2.25, 2.3333332538604736, 2.4166667461395264, 2.5, 2.5833332538604736, 2.6666667461395264, 2.75, 2.8333332538604736, 2.9166667461395264, 3.0, 3.0833332538604736, 3.1666667461395264, 3.25, 3.3333332538604736, 3.4166667461395264, 3.5, 3.5833332538604736, 3.6666667461395264, 3.75, 3.8333332538604736, 3.9166667461395264, 4.0, 4.083333492279053, 4.166666507720947, 4.25, 4.333333492279053, 4.416666507720947, 4.5, 4.583333492279053, 4.666666507720947, 4.75, 4.833333492279053, 4.916666507720947, 5.0, 5.083333492279053, 5.166666507720947, 5.25, 5.333333492279053, 5.416666507720947, 5.5, 5.583333492279053, 5.666666507720947, 5.75, 5.833333492279053, 5.916666507720947, 6.0, 6.083333492279053, 6.166666507720947, 6.25, 6.333333492279053, 6.416666507720947, 6.5, 6.583333492279053, 6.666666507720947, 6.75, 6.833333492279053, 6.916666507720947, 7.0, 7.083333492279053, 7.166666507720947, 7.25, 7.333333492279053, 7.416666507720947, 7.5, 7.583333492279053, 7.666666507720947, 7.75, 7.833333492279053, 7.916666507720947, 8.0, 8.083333015441895, 8.166666984558105, 8.25, 8.333333015441895, 8.416666984558105, 8.5, 8.583333015441895, 8.666666984558105, 8.75, 8.833333015441895, 8.916666984558105, 9.0, 9.166666984558105, 9.25, 9.333333015441895, 9.416666984558105, 9.583333015441895, 9.666666984558105, 9.75, 9.833333015441895, 9.833333015441895, 10.0, 10.083333015441895, 10.166666984558105, 10.25, 10.25, 10.5, 10.583333015441895, 10.666666984558105, 10.75, 10.916666984558105, 11.0, 11.083333015441895, 11.166666984558105, 11.333333015441895, 11.416666984558105, 11.5, 11.583333015441895, 11.833333015441895, 11.916666984558105, 12.0, 12.083333015441895, 12.25, 12.333333015441895, 12.416666984558105, 12.5, 12.666666984558105, 12.75, 12.833333015441895, 12.916666984558105, 13.083333015441895, 13.083333015441895, 13.166666984558105, 13.166666984558105, 13.25, 13.333333015441895, 13.333333015441895, 13.5, 13.666666984558105, 13.75, 14.0, 14.083333015441895, 14.083333015441895, 14.25, 14.416666984558105, 14.5, 14.583333015441895, 14.666666984558105, 14.916666984558105, 15.0, 15.083333015441895, 15.25, 15.333333015441895, 15.416666984558105, 15.416666984558105], \"y\": [54.20867340087891, 54.504884033203126, 54.912269554138184, 50.58275547027588, 74.9140493774414, 76.02509002685547, 96.25126823425293, 108.57912910461425, 64.38339481353759, 67.6428959274292, 59.59573554992676, 74.04802906036377, 47.34603275299072, 57.96741516113281, 67.39553546905518, 71.384970703125, 81.75210510253906, 72.94177726745606, 63.89270149230957, 56.99005573272705, 67.31819290161133, 86.46783630371094, 79.30179336547852, 66.74805229187012, 39.906998786926266, 66.68869903564453, 48.42008163452149, 44.05967826843262, 26.115251502990724, 46.46846202850342, 49.304670600891114, 22.998156661987306, 54.02092136383057, 56.22977302551269, 26.48636390686035, 30.661516399383544, 31.168675861358643, 30.553096332550048, 30.783489303588865, 26.326568412780762, 25.999322414398193, 43.67767574310303, 63.32115123748779, 48.78864734649658, 77.83438552856445, 53.44661045074463, 46.18256145477295, 28.423731441497804, 47.53016544342041, 66.40043586730957, 43.10605865478516, 28.97858350753784, 15.791905651092529, 58.82332992553711, 42.81796642303467, -6.84801221370697, 30.86320957183838, 19.778766555786135, 40.50894653320312, 54.3973210144043, 17.54112392425537, 9.229116506576538, 9.358640451431274, -3.6596622920036315, 25.6180877494812, 1.5591389012336732, 23.02049222946167, -6.08273675441742, 17.94159248352051, 5.778626832962036, 7.581166071891785, 59.528992614746095, 15.67426368713379, 31.869435272216798, 19.096481170654297, 10.294719314575195, 5.85094141960144, -7.486197581291199, 24.883454856872557, 29.580368728637694, 31.66604404449463, 20.37140396118164, 7.546999320983887, 17.21513011932373, 17.223622856140135, -0.40306891202926637, -16.89245107650757, -20.778887901306152, 25.847963829040527, 11.615621929168702, 24.757920093536377, 40.76746334075928, 10.809093465805054, -8.524370732307434, -7.048358268737793, 8.665267224311828, -15.370831537246705, -3.1720308232307435, -12.026573133468627, -24.24652032852173, -12.662671461105347, 15.28719570159912, -25.660792694091796, -13.932897310256958, -25.243891315460203, 0.07586052596569061, -29.379410991668703, -28.149430637359618, -46.112706680297855, -54.26601373036703, -54.26601373036703, -43.07386016845703, -40.96998748779297, -35.14313720703125, -46.2910129585266, -46.2910129585266, -30.994670085906982, -60.013597373962405, -52.840507621765134, -65.3782633972168, -71.73018295288085, -41.32638526916504, -24.04062568664551, -24.67919563293457, -20.340483531951904, -28.172630271911622, -7.73294376373291, -36.02959842681885, -37.261789894104005, -28.443896102905274, -24.75170555114746, -23.619713726043702, -41.716490592956546, -61.27884613037109, -43.15160499572754, -38.780617485046385, -33.01428478240967, -56.43417320251465, -59.52798484802246, -77.8909775543213, -55.70392366282146, -55.70392366282146, -82.91383214569092, -82.91383214569092, -72.77544320424397, -69.27989770253497, -69.27989770253497, -119.76321739196777, -84.59930282592774, -71.61587783813476, -132.6898648071289, -59.982892239888514, -59.982892239888514, -57.18687117894491, -102.64356979370118, -68.64377792358398, -75.7311897277832, -116.38097312927246, -92.8405551147461, -95.31296417236328, -79.76000221252441, -81.54414245605469, -98.17806034851074, -77.60157845052086, -77.60157845052086]}],                        {\"template\": {\"data\": {\"bar\": [{\"error_x\": {\"color\": \"#2a3f5f\"}, \"error_y\": {\"color\": \"#2a3f5f\"}, \"marker\": {\"line\": {\"color\": \"#E5ECF6\", \"width\": 0.5}}, \"type\": \"bar\"}], \"barpolar\": [{\"marker\": {\"line\": {\"color\": \"#E5ECF6\", \"width\": 0.5}}, \"type\": \"barpolar\"}], \"carpet\": [{\"aaxis\": {\"endlinecolor\": \"#2a3f5f\", \"gridcolor\": \"white\", \"linecolor\": \"white\", \"minorgridcolor\": \"white\", \"startlinecolor\": \"#2a3f5f\"}, \"baxis\": {\"endlinecolor\": \"#2a3f5f\", \"gridcolor\": \"white\", \"linecolor\": \"white\", \"minorgridcolor\": \"white\", \"startlinecolor\": \"#2a3f5f\"}, \"type\": \"carpet\"}], \"choropleth\": [{\"colorbar\": {\"outlinewidth\": 0, \"ticks\": \"\"}, \"type\": \"choropleth\"}], \"contour\": [{\"colorbar\": {\"outlinewidth\": 0, \"ticks\": \"\"}, \"colorscale\": [[0.0, \"#0d0887\"], [0.1111111111111111, \"#46039f\"], [0.2222222222222222, \"#7201a8\"], [0.3333333333333333, \"#9c179e\"], [0.4444444444444444, \"#bd3786\"], [0.5555555555555556, \"#d8576b\"], [0.6666666666666666, \"#ed7953\"], [0.7777777777777778, \"#fb9f3a\"], [0.8888888888888888, \"#fdca26\"], [1.0, \"#f0f921\"]], \"type\": \"contour\"}], \"contourcarpet\": [{\"colorbar\": {\"outlinewidth\": 0, \"ticks\": \"\"}, \"type\": \"contourcarpet\"}], \"heatmap\": [{\"colorbar\": {\"outlinewidth\": 0, \"ticks\": \"\"}, \"colorscale\": [[0.0, \"#0d0887\"], [0.1111111111111111, \"#46039f\"], [0.2222222222222222, \"#7201a8\"], [0.3333333333333333, \"#9c179e\"], [0.4444444444444444, \"#bd3786\"], [0.5555555555555556, \"#d8576b\"], [0.6666666666666666, \"#ed7953\"], [0.7777777777777778, \"#fb9f3a\"], [0.8888888888888888, \"#fdca26\"], [1.0, \"#f0f921\"]], \"type\": \"heatmap\"}], \"heatmapgl\": [{\"colorbar\": {\"outlinewidth\": 0, \"ticks\": \"\"}, \"colorscale\": [[0.0, \"#0d0887\"], [0.1111111111111111, \"#46039f\"], [0.2222222222222222, \"#7201a8\"], [0.3333333333333333, \"#9c179e\"], [0.4444444444444444, \"#bd3786\"], [0.5555555555555556, \"#d8576b\"], [0.6666666666666666, \"#ed7953\"], [0.7777777777777778, \"#fb9f3a\"], [0.8888888888888888, \"#fdca26\"], [1.0, \"#f0f921\"]], \"type\": \"heatmapgl\"}], \"histogram\": [{\"marker\": {\"colorbar\": {\"outlinewidth\": 0, \"ticks\": \"\"}}, \"type\": \"histogram\"}], \"histogram2d\": [{\"colorbar\": {\"outlinewidth\": 0, \"ticks\": \"\"}, \"colorscale\": [[0.0, \"#0d0887\"], [0.1111111111111111, \"#46039f\"], [0.2222222222222222, \"#7201a8\"], [0.3333333333333333, \"#9c179e\"], [0.4444444444444444, \"#bd3786\"], [0.5555555555555556, \"#d8576b\"], [0.6666666666666666, \"#ed7953\"], [0.7777777777777778, \"#fb9f3a\"], [0.8888888888888888, \"#fdca26\"], [1.0, \"#f0f921\"]], \"type\": \"histogram2d\"}], \"histogram2dcontour\": [{\"colorbar\": {\"outlinewidth\": 0, \"ticks\": \"\"}, \"colorscale\": [[0.0, \"#0d0887\"], [0.1111111111111111, \"#46039f\"], [0.2222222222222222, \"#7201a8\"], [0.3333333333333333, \"#9c179e\"], [0.4444444444444444, \"#bd3786\"], [0.5555555555555556, \"#d8576b\"], [0.6666666666666666, \"#ed7953\"], [0.7777777777777778, \"#fb9f3a\"], [0.8888888888888888, \"#fdca26\"], [1.0, \"#f0f921\"]], \"type\": \"histogram2dcontour\"}], \"mesh3d\": [{\"colorbar\": {\"outlinewidth\": 0, \"ticks\": \"\"}, \"type\": \"mesh3d\"}], \"parcoords\": [{\"line\": {\"colorbar\": {\"outlinewidth\": 0, \"ticks\": \"\"}}, \"type\": \"parcoords\"}], \"pie\": [{\"automargin\": true, \"type\": \"pie\"}], \"scatter\": [{\"marker\": {\"colorbar\": {\"outlinewidth\": 0, \"ticks\": \"\"}}, \"type\": \"scatter\"}], \"scatter3d\": [{\"line\": {\"colorbar\": {\"outlinewidth\": 0, \"ticks\": \"\"}}, \"marker\": {\"colorbar\": {\"outlinewidth\": 0, \"ticks\": \"\"}}, \"type\": \"scatter3d\"}], \"scattercarpet\": [{\"marker\": {\"colorbar\": {\"outlinewidth\": 0, \"ticks\": \"\"}}, \"type\": \"scattercarpet\"}], \"scattergeo\": [{\"marker\": {\"colorbar\": {\"outlinewidth\": 0, \"ticks\": \"\"}}, \"type\": \"scattergeo\"}], \"scattergl\": [{\"marker\": {\"colorbar\": {\"outlinewidth\": 0, \"ticks\": \"\"}}, \"type\": \"scattergl\"}], \"scattermapbox\": [{\"marker\": {\"colorbar\": {\"outlinewidth\": 0, \"ticks\": \"\"}}, \"type\": \"scattermapbox\"}], \"scatterpolar\": [{\"marker\": {\"colorbar\": {\"outlinewidth\": 0, \"ticks\": \"\"}}, \"type\": \"scatterpolar\"}], \"scatterpolargl\": [{\"marker\": {\"colorbar\": {\"outlinewidth\": 0, \"ticks\": \"\"}}, \"type\": \"scatterpolargl\"}], \"scatterternary\": [{\"marker\": {\"colorbar\": {\"outlinewidth\": 0, \"ticks\": \"\"}}, \"type\": \"scatterternary\"}], \"surface\": [{\"colorbar\": {\"outlinewidth\": 0, \"ticks\": \"\"}, \"colorscale\": [[0.0, \"#0d0887\"], [0.1111111111111111, \"#46039f\"], [0.2222222222222222, \"#7201a8\"], [0.3333333333333333, \"#9c179e\"], [0.4444444444444444, \"#bd3786\"], [0.5555555555555556, \"#d8576b\"], [0.6666666666666666, \"#ed7953\"], [0.7777777777777778, \"#fb9f3a\"], [0.8888888888888888, \"#fdca26\"], [1.0, \"#f0f921\"]], \"type\": \"surface\"}], \"table\": [{\"cells\": {\"fill\": {\"color\": \"#EBF0F8\"}, \"line\": {\"color\": \"white\"}}, \"header\": {\"fill\": {\"color\": \"#C8D4E3\"}, \"line\": {\"color\": \"white\"}}, \"type\": \"table\"}]}, \"layout\": {\"annotationdefaults\": {\"arrowcolor\": \"#2a3f5f\", \"arrowhead\": 0, \"arrowwidth\": 1}, \"coloraxis\": {\"colorbar\": {\"outlinewidth\": 0, \"ticks\": \"\"}}, \"colorscale\": {\"diverging\": [[0, \"#8e0152\"], [0.1, \"#c51b7d\"], [0.2, \"#de77ae\"], [0.3, \"#f1b6da\"], [0.4, \"#fde0ef\"], [0.5, \"#f7f7f7\"], [0.6, \"#e6f5d0\"], [0.7, \"#b8e186\"], [0.8, \"#7fbc41\"], [0.9, \"#4d9221\"], [1, \"#276419\"]], \"sequential\": [[0.0, \"#0d0887\"], [0.1111111111111111, \"#46039f\"], [0.2222222222222222, \"#7201a8\"], [0.3333333333333333, \"#9c179e\"], [0.4444444444444444, \"#bd3786\"], [0.5555555555555556, \"#d8576b\"], [0.6666666666666666, \"#ed7953\"], [0.7777777777777778, \"#fb9f3a\"], [0.8888888888888888, \"#fdca26\"], [1.0, \"#f0f921\"]], \"sequentialminus\": [[0.0, \"#0d0887\"], [0.1111111111111111, \"#46039f\"], [0.2222222222222222, \"#7201a8\"], [0.3333333333333333, \"#9c179e\"], [0.4444444444444444, \"#bd3786\"], [0.5555555555555556, \"#d8576b\"], [0.6666666666666666, \"#ed7953\"], [0.7777777777777778, \"#fb9f3a\"], [0.8888888888888888, \"#fdca26\"], [1.0, \"#f0f921\"]]}, \"colorway\": [\"#636efa\", \"#EF553B\", \"#00cc96\", \"#ab63fa\", \"#FFA15A\", \"#19d3f3\", \"#FF6692\", \"#B6E880\", \"#FF97FF\", \"#FECB52\"], \"font\": {\"color\": \"#2a3f5f\"}, \"geo\": {\"bgcolor\": \"white\", \"lakecolor\": \"white\", \"landcolor\": \"#E5ECF6\", \"showlakes\": true, \"showland\": true, \"subunitcolor\": \"white\"}, \"hoverlabel\": {\"align\": \"left\"}, \"hovermode\": \"closest\", \"mapbox\": {\"style\": \"light\"}, \"paper_bgcolor\": \"white\", \"plot_bgcolor\": \"#E5ECF6\", \"polar\": {\"angularaxis\": {\"gridcolor\": \"white\", \"linecolor\": \"white\", \"ticks\": \"\"}, \"bgcolor\": \"#E5ECF6\", \"radialaxis\": {\"gridcolor\": \"white\", \"linecolor\": \"white\", \"ticks\": \"\"}}, \"scene\": {\"xaxis\": {\"backgroundcolor\": \"#E5ECF6\", \"gridcolor\": \"white\", \"gridwidth\": 2, \"linecolor\": \"white\", \"showbackground\": true, \"ticks\": \"\", \"zerolinecolor\": \"white\"}, \"yaxis\": {\"backgroundcolor\": \"#E5ECF6\", \"gridcolor\": \"white\", \"gridwidth\": 2, \"linecolor\": \"white\", \"showbackground\": true, \"ticks\": \"\", \"zerolinecolor\": \"white\"}, \"zaxis\": {\"backgroundcolor\": \"#E5ECF6\", \"gridcolor\": \"white\", \"gridwidth\": 2, \"linecolor\": \"white\", \"showbackground\": true, \"ticks\": \"\", \"zerolinecolor\": \"white\"}}, \"shapedefaults\": {\"line\": {\"color\": \"#2a3f5f\"}}, \"ternary\": {\"aaxis\": {\"gridcolor\": \"white\", \"linecolor\": \"white\", \"ticks\": \"\"}, \"baxis\": {\"gridcolor\": \"white\", \"linecolor\": \"white\", \"ticks\": \"\"}, \"bgcolor\": \"#E5ECF6\", \"caxis\": {\"gridcolor\": \"white\", \"linecolor\": \"white\", \"ticks\": \"\"}}, \"title\": {\"x\": 0.05}, \"xaxis\": {\"automargin\": true, \"gridcolor\": \"white\", \"linecolor\": \"white\", \"ticks\": \"\", \"title\": {\"standoff\": 15}, \"zerolinecolor\": \"white\", \"zerolinewidth\": 2}, \"yaxis\": {\"automargin\": true, \"gridcolor\": \"white\", \"linecolor\": \"white\", \"ticks\": \"\", \"title\": {\"standoff\": 15}, \"zerolinecolor\": \"white\", \"zerolinewidth\": 2}}}},                        {\"responsive\": true}                    ).then(function(){\n                            \nvar gd = document.getElementById('8da04577-2318-4ba8-b6d3-ed37290dd40d');\nvar x = new MutationObserver(function (mutations, observer) {{\n        var display = window.getComputedStyle(gd).display;\n        if (!display || display === 'none') {{\n            console.log([gd, 'removed!']);\n            Plotly.purge(gd);\n            observer.disconnect();\n        }}\n}});\n\n// Listen for the removal of the full notebook cells\nvar notebookContainer = gd.closest('#notebook-container');\nif (notebookContainer) {{\n    x.observe(notebookContainer, {childList: true});\n}}\n\n// Listen for the clearing of the current output cell\nvar outputEl = gd.closest('.output');\nif (outputEl) {{\n    x.observe(outputEl, {childList: true});\n}}\n\n                        })                };                });            </script>        </div>"
     },
     "metadata": {},
     "output_type": "display_data"
    }
   ],
   "source": [
    "fig = go.Figure(data=go.Scatter(x=data_smd[:, 0], y=data_smd[:, 1], mode='lines+markers'))\n",
    "fig.add_trace(go.Scatter(x=data_smd[:, 0], y=y, mode='lines'))\n",
    "fig.show()"
   ],
   "metadata": {
    "collapsed": false,
    "pycharm": {
     "name": "#%%\n"
    }
   }
  },
  {
   "cell_type": "code",
   "execution_count": 24,
   "outputs": [
    {
     "data": {
      "text/plain": "array([ 18.25341 ,  19.88186 ,  21.548052, ..., -42.636154, -45.2337  ,\n       -47.171757], dtype=float32)"
     },
     "execution_count": 24,
     "metadata": {},
     "output_type": "execute_result"
    }
   ],
   "source": [
    "np.float32(smd[\"smd_anomaly\"][0][gravity_processor.smd_idx[:, 0], gravity_processor.smd_idx[:, 1]])"
   ],
   "metadata": {
    "collapsed": false,
    "pycharm": {
     "name": "#%%\n"
    }
   }
  },
  {
   "cell_type": "code",
   "execution_count": null,
   "outputs": [],
   "source": [],
   "metadata": {
    "collapsed": false,
    "pycharm": {
     "name": "#%%\n"
    }
   }
  }
 ],
 "metadata": {
  "kernelspec": {
   "display_name": "Python 3",
   "language": "python",
   "name": "python3"
  },
  "language_info": {
   "codemirror_mode": {
    "name": "ipython",
    "version": 2
   },
   "file_extension": ".py",
   "mimetype": "text/x-python",
   "name": "python",
   "nbconvert_exporter": "python",
   "pygments_lexer": "ipython2",
   "version": "2.7.6"
  }
 },
 "nbformat": 4,
 "nbformat_minor": 0
}