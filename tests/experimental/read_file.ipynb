{
 "cells": [
  {
   "cell_type": "code",
   "execution_count": 2,
   "metadata": {
    "collapsed": true,
    "pycharm": {
     "name": "#%%\n"
    }
   },
   "outputs": [],
   "source": [
    "import pandas as pd\n",
    "import re\n",
    "from datetime import datetime\n",
    "import numpy as np\n",
    "from grace_read.read import read\n",
    "from grace_read.read_header import read_header\n",
    "from grace_fo_stda.filters.anomaly import get_monthly_mean\n",
    "import os\n",
    "\n",
    "root_dir = os.getcwd()+\"../../Data/\"\n",
    "files_path = [os.getcwd()+\"/../../Data/\"+x for x in os.listdir(\"../../Data/\")]"
   ]
  },
  {
   "cell_type": "code",
   "execution_count": 3,
   "outputs": [
    {
     "name": "stdout",
     "output_type": "stream",
     "text": [
      "/home/shivam/PycharmProjects/grace-fo-stda/tests/experimental/../../Data/kfilter_DDK1_GSM-2_2019305-2019334_GRFO_JPLEM_BA01_0600.gfc\n",
      "/home/shivam/PycharmProjects/grace-fo-stda/tests/experimental/../../Data/kfilter_DDK1_GSM-2_2019152-2019181_GRFO_JPLEM_BA01_0600.gfc\n",
      "/home/shivam/PycharmProjects/grace-fo-stda/tests/experimental/../../Data/kfilter_DDK1_GSM-2_2019244-2019273_GRFO_JPLEM_BA01_0600.gfc\n",
      "/home/shivam/PycharmProjects/grace-fo-stda/tests/experimental/../../Data/kfilter_DDK1_GSM-2_2019274-2019304_GRFO_JPLEM_BA01_0600.gfc\n",
      "/home/shivam/PycharmProjects/grace-fo-stda/tests/experimental/../../Data/kfilter_DDK1_GSM-2_2018335-2018365_GRFO_JPLEM_BA01_0600.gfc\n",
      "/home/shivam/PycharmProjects/grace-fo-stda/tests/experimental/../../Data/kfilter_DDK1_GSM-2_2020122-2020152_GRFO_JPLEM_BA01_0600.gfc\n",
      "/home/shivam/PycharmProjects/grace-fo-stda/tests/experimental/../../Data/kfilter_DDK1_GSM-2_2019335-2019365_GRFO_JPLEM_BA01_0600.gfc\n",
      "/home/shivam/PycharmProjects/grace-fo-stda/tests/experimental/../../Data/kfilter_DDK1_GSM-2_2019213-2019243_GRFO_JPLEM_BA01_0600.gfc\n",
      "/home/shivam/PycharmProjects/grace-fo-stda/tests/experimental/../../Data/kfilter_DDK1_GSM-2_2018182-2018199_GRFO_JPLEM_BA01_0600.gfc\n",
      "/home/shivam/PycharmProjects/grace-fo-stda/tests/experimental/../../Data/kfilter_DDK1_GSM-2_2019121-2019151_GRFO_JPLEM_BA01_0600.gfc\n",
      "/home/shivam/PycharmProjects/grace-fo-stda/tests/experimental/../../Data/kfilter_DDK1_GSM-2_2019001-2019031_GRFO_JPLEM_BA01_0600.gfc\n",
      "/home/shivam/PycharmProjects/grace-fo-stda/tests/experimental/../../Data/kfilter_DDK1_GSM-2_2020032-2020060_GRFO_JPLEM_BA01_0600.gfc\n",
      "/home/shivam/PycharmProjects/grace-fo-stda/tests/experimental/../../Data/kfilter_DDK1_GSM-2_2020092-2020121_GRFO_JPLEM_BA01_0600.gfc\n",
      "/home/shivam/PycharmProjects/grace-fo-stda/tests/experimental/../../Data/kfilter_DDK1_GSM-2_2020001-2020031_GRFO_JPLEM_BA01_0600.gfc\n",
      "/home/shivam/PycharmProjects/grace-fo-stda/tests/experimental/../../Data/kfilter_DDK1_GSM-2_2020153-2020182_GRFO_JPLEM_BA01_0600.gfc\n",
      "/home/shivam/PycharmProjects/grace-fo-stda/tests/experimental/../../Data/kfilter_DDK1_GSM-2_2018152-2018181_GRFO_JPLEM_BA01_0600.gfc\n",
      "/home/shivam/PycharmProjects/grace-fo-stda/tests/experimental/../../Data/kfilter_DDK1_GSM-2_2019026-2019063_GRFO_JPLEM_BA01_0600.gfc\n",
      "/home/shivam/PycharmProjects/grace-fo-stda/tests/experimental/../../Data/kfilter_DDK1_GSM-2_2018305-2018334_GRFO_JPLEM_BA01_0600.gfc\n",
      "/home/shivam/PycharmProjects/grace-fo-stda/tests/experimental/../../Data/kfilter_DDK1_GSM-2_2018295-2018313_GRFO_JPLEM_BA01_0600.gfc\n",
      "/home/shivam/PycharmProjects/grace-fo-stda/tests/experimental/../../Data/kfilter_DDK1_GSM-2_2019091-2019120_GRFO_JPLEM_BA01_0600.gfc\n",
      "/home/shivam/PycharmProjects/grace-fo-stda/tests/experimental/../../Data/kfilter_DDK1_GSM-2_2020061-2020091_GRFO_JPLEM_BA01_0600.gfc\n",
      "/home/shivam/PycharmProjects/grace-fo-stda/tests/experimental/../../Data/kfilter_DDK1_GSM-2_2020183-2020213_GRFO_JPLEM_BA01_0600.gfc\n",
      "/home/shivam/PycharmProjects/grace-fo-stda/tests/experimental/../../Data/kfilter_DDK1_GSM-2_2019182-2019212_GRFO_JPLEM_BA01_0600.gfc\n",
      "/home/shivam/PycharmProjects/grace-fo-stda/tests/experimental/../../Data/kfilter_DDK1_GSM-2_2019060-2019090_GRFO_JPLEM_BA01_0600.gfc\n"
     ]
    }
   ],
   "source": [
    "data = read(files_path)"
   ],
   "metadata": {
    "collapsed": false,
    "pycharm": {
     "name": "#%%\n"
    }
   }
  },
  {
   "cell_type": "code",
   "execution_count": 4,
   "outputs": [],
   "source": [
    "sc_coeffs = data[\"sc_coeffs_mat\"][0]"
   ],
   "metadata": {
    "collapsed": false,
    "pycharm": {
     "name": "#%%\n"
    }
   }
  },
  {
   "cell_type": "code",
   "execution_count": 5,
   "outputs": [],
   "source": [
    "from scipy import fftpack"
   ],
   "metadata": {
    "collapsed": false,
    "pycharm": {
     "name": "#%%\n"
    }
   }
  },
  {
   "cell_type": "code",
   "execution_count": 8,
   "outputs": [],
   "source": [],
   "metadata": {
    "collapsed": false,
    "pycharm": {
     "name": "#%%\n"
    }
   }
  },
  {
   "cell_type": "code",
   "execution_count": 4,
   "outputs": [],
   "source": [
    "import matplotlib.pyplot as plt\n"
   ],
   "metadata": {
    "collapsed": false,
    "pycharm": {
     "name": "#%%\n"
    }
   }
  },
  {
   "cell_type": "code",
   "execution_count": 5,
   "outputs": [],
   "source": [
    "anomaly = get_monthly_mean(data)"
   ],
   "metadata": {
    "collapsed": false,
    "pycharm": {
     "name": "#%%\n"
    }
   }
  },
  {
   "cell_type": "code",
   "execution_count": 6,
   "outputs": [],
   "source": [
    "sc_anomaly = anomaly[\"sc_coeffs_mat\"][0]\n",
    "sc = np.concatenate((np.fliplr(sc_anomaly[:, :, 1]), sc_anomaly[:, :, 0]), axis=1)"
   ],
   "metadata": {
    "collapsed": false,
    "pycharm": {
     "name": "#%%\n"
    }
   }
  },
  {
   "cell_type": "code",
   "execution_count": 16,
   "outputs": [
    {
     "data": {
      "text/plain": "(61, 122)"
     },
     "execution_count": 16,
     "metadata": {},
     "output_type": "execute_result"
    }
   ],
   "source": [
    "sc.shape"
   ],
   "metadata": {
    "collapsed": false,
    "pycharm": {
     "name": "#%%\n"
    }
   }
  },
  {
   "cell_type": "code",
   "execution_count": 10,
   "outputs": [
    {
     "name": "stderr",
     "output_type": "stream",
     "text": [
      "<ipython-input-10-faffbde7da68>:1: RuntimeWarning: divide by zero encountered in log\n",
      "  plt.imshow(np.log(sc))\n",
      "<ipython-input-10-faffbde7da68>:1: RuntimeWarning: invalid value encountered in log\n",
      "  plt.imshow(np.log(sc))\n"
     ]
    },
    {
     "data": {
      "text/plain": "<matplotlib.colorbar.Colorbar at 0x7fa6cf808220>"
     },
     "execution_count": 10,
     "metadata": {},
     "output_type": "execute_result"
    },
    {
     "data": {
      "text/plain": "<Figure size 432x288 with 2 Axes>",
      "image/png": "[encoded data removed]"
     },
     "metadata": {
      "needs_background": "light"
     },
     "output_type": "display_data"
    }
   ],
   "source": [
    "plt.imshow(np.log(sc))\n",
    "plt.colorbar()"
   ],
   "metadata": {
    "collapsed": false,
    "pycharm": {
     "name": "#%%\n"
    }
   }
  },
  {
   "cell_type": "code",
   "execution_count": null,
   "outputs": [],
   "source": [],
   "metadata": {
    "collapsed": false,
    "pycharm": {
     "name": "#%%\n"
    }
   }
  }
 ],
 "metadata": {
  "kernelspec": {
   "display_name": "Python 3",
   "language": "python",
   "name": "python3"
  },
  "language_info": {
   "codemirror_mode": {
    "name": "ipython",
    "version": 2
   },
   "file_extension": ".py",
   "mimetype": "text/x-python",
   "name": "python",
   "nbconvert_exporter": "python",
   "pygments_lexer": "ipython2",
   "version": "2.7.6"
  }
 },
 "nbformat": 4,
 "nbformat_minor": 0
}