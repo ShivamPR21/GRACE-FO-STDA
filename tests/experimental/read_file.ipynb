{
 "cells": [
  {
   "cell_type": "code",
   "execution_count": 1,
   "metadata": {
    "collapsed": true,
    "pycharm": {
     "name": "#%%\n"
    }
   },
   "outputs": [],
   "source": [
    "import pandas as pd\n",
    "import re\n",
    "from datetime import datetime\n",
    "import numpy as np\n",
    "from grace_read.read import read\n",
    "from grace_read.read_header import read_header\n",
    "import os\n",
    "\n",
    "root_dir = os.getcwd()+\"../../Data/\"\n",
    "files_path = [os.getcwd()+\"/../../Data/\"+x for x in os.listdir(\"../../Data/\")]"
   ]
  },
  {
   "cell_type": "code",
   "execution_count": 2,
   "outputs": [
    {
     "name": "stdout",
     "output_type": "stream",
     "text": [
      "/home/shivam/PycharmProjects/grace-fo-stda/tests/experimental/../../Data/kfilter_DDK1_GSM-2_2019305-2019334_GRFO_JPLEM_BA01_0600.gfc\n",
      "/home/shivam/PycharmProjects/grace-fo-stda/tests/experimental/../../Data/kfilter_DDK1_GSM-2_2019152-2019181_GRFO_JPLEM_BA01_0600.gfc\n",
      "/home/shivam/PycharmProjects/grace-fo-stda/tests/experimental/../../Data/kfilter_DDK1_GSM-2_2019244-2019273_GRFO_JPLEM_BA01_0600.gfc\n",
      "/home/shivam/PycharmProjects/grace-fo-stda/tests/experimental/../../Data/kfilter_DDK1_GSM-2_2019274-2019304_GRFO_JPLEM_BA01_0600.gfc\n",
      "/home/shivam/PycharmProjects/grace-fo-stda/tests/experimental/../../Data/kfilter_DDK1_GSM-2_2018335-2018365_GRFO_JPLEM_BA01_0600.gfc\n",
      "/home/shivam/PycharmProjects/grace-fo-stda/tests/experimental/../../Data/kfilter_DDK1_GSM-2_2020122-2020152_GRFO_JPLEM_BA01_0600.gfc\n",
      "/home/shivam/PycharmProjects/grace-fo-stda/tests/experimental/../../Data/kfilter_DDK1_GSM-2_2019335-2019365_GRFO_JPLEM_BA01_0600.gfc\n",
      "/home/shivam/PycharmProjects/grace-fo-stda/tests/experimental/../../Data/kfilter_DDK1_GSM-2_2019213-2019243_GRFO_JPLEM_BA01_0600.gfc\n",
      "/home/shivam/PycharmProjects/grace-fo-stda/tests/experimental/../../Data/kfilter_DDK1_GSM-2_2018182-2018199_GRFO_JPLEM_BA01_0600.gfc\n",
      "/home/shivam/PycharmProjects/grace-fo-stda/tests/experimental/../../Data/kfilter_DDK1_GSM-2_2019121-2019151_GRFO_JPLEM_BA01_0600.gfc\n",
      "/home/shivam/PycharmProjects/grace-fo-stda/tests/experimental/../../Data/kfilter_DDK1_GSM-2_2019001-2019031_GRFO_JPLEM_BA01_0600.gfc\n",
      "/home/shivam/PycharmProjects/grace-fo-stda/tests/experimental/../../Data/kfilter_DDK1_GSM-2_2020032-2020060_GRFO_JPLEM_BA01_0600.gfc\n",
      "/home/shivam/PycharmProjects/grace-fo-stda/tests/experimental/../../Data/kfilter_DDK1_GSM-2_2020092-2020121_GRFO_JPLEM_BA01_0600.gfc\n",
      "/home/shivam/PycharmProjects/grace-fo-stda/tests/experimental/../../Data/kfilter_DDK1_GSM-2_2020001-2020031_GRFO_JPLEM_BA01_0600.gfc\n",
      "/home/shivam/PycharmProjects/grace-fo-stda/tests/experimental/../../Data/kfilter_DDK1_GSM-2_2020153-2020182_GRFO_JPLEM_BA01_0600.gfc\n",
      "/home/shivam/PycharmProjects/grace-fo-stda/tests/experimental/../../Data/kfilter_DDK1_GSM-2_2018152-2018181_GRFO_JPLEM_BA01_0600.gfc\n",
      "/home/shivam/PycharmProjects/grace-fo-stda/tests/experimental/../../Data/kfilter_DDK1_GSM-2_2019026-2019063_GRFO_JPLEM_BA01_0600.gfc\n",
      "/home/shivam/PycharmProjects/grace-fo-stda/tests/experimental/../../Data/kfilter_DDK1_GSM-2_2018305-2018334_GRFO_JPLEM_BA01_0600.gfc\n",
      "/home/shivam/PycharmProjects/grace-fo-stda/tests/experimental/../../Data/kfilter_DDK1_GSM-2_2018295-2018313_GRFO_JPLEM_BA01_0600.gfc\n",
      "/home/shivam/PycharmProjects/grace-fo-stda/tests/experimental/../../Data/kfilter_DDK1_GSM-2_2019091-2019120_GRFO_JPLEM_BA01_0600.gfc\n",
      "/home/shivam/PycharmProjects/grace-fo-stda/tests/experimental/../../Data/kfilter_DDK1_GSM-2_2020061-2020091_GRFO_JPLEM_BA01_0600.gfc\n",
      "/home/shivam/PycharmProjects/grace-fo-stda/tests/experimental/../../Data/kfilter_DDK1_GSM-2_2020183-2020213_GRFO_JPLEM_BA01_0600.gfc\n",
      "/home/shivam/PycharmProjects/grace-fo-stda/tests/experimental/../../Data/kfilter_DDK1_GSM-2_2019182-2019212_GRFO_JPLEM_BA01_0600.gfc\n",
      "/home/shivam/PycharmProjects/grace-fo-stda/tests/experimental/../../Data/kfilter_DDK1_GSM-2_2019060-2019090_GRFO_JPLEM_BA01_0600.gfc\n"
     ]
    }
   ],
   "source": [
    "data = read(files_path)"
   ],
   "metadata": {
    "collapsed": false,
    "pycharm": {
     "name": "#%%\n"
    }
   }
  },
  {
   "cell_type": "code",
   "execution_count": 3,
   "outputs": [],
   "source": [
    "sc_coeffs = data[\"sc_coeffs_mat\"][0]"
   ],
   "metadata": {
    "collapsed": false,
    "pycharm": {
     "name": "#%%\n"
    }
   }
  },
  {
   "cell_type": "code",
   "execution_count": 5,
   "outputs": [
    {
     "data": {
      "text/plain": "(array([ 0,  2,  2, ..., 60, 60, 60]),\n array([ 0,  0,  0, ..., 60, 60, 60]),\n array([0, 0, 2, ..., 1, 2, 3]))"
     },
     "execution_count": 5,
     "metadata": {},
     "output_type": "execute_result"
    }
   ],
   "source": [
    "np.nonzero(sc_coeffs)"
   ],
   "metadata": {
    "collapsed": false,
    "pycharm": {
     "name": "#%%\n"
    }
   }
  },
  {
   "cell_type": "code",
   "execution_count": 4,
   "outputs": [
    {
     "data": {
      "text/plain": "array([0.79321211, 0.25413539])"
     },
     "execution_count": 4,
     "metadata": {},
     "output_type": "execute_result"
    }
   ],
   "source": [
    "d[[0, 1],\n",
    "[1, 1]]"
   ],
   "metadata": {
    "collapsed": false,
    "pycharm": {
     "name": "#%%\n"
    }
   }
  },
  {
   "cell_type": "code",
   "execution_count": 5,
   "outputs": [
    {
     "data": {
      "text/plain": "array([[0.17441864, 0.79321211],\n       [0.79321211, 0.79321211]])"
     },
     "execution_count": 5,
     "metadata": {},
     "output_type": "execute_result"
    }
   ],
   "source": [
    "np.take(d, [[0, 1],\n",
    "[1, 1]])"
   ],
   "metadata": {
    "collapsed": false,
    "pycharm": {
     "name": "#%%\n"
    }
   }
  },
  {
   "cell_type": "code",
   "execution_count": 6,
   "outputs": [
    {
     "data": {
      "text/plain": "array([[0.17441864, 0.79321211],\n       [0.73959024, 0.25413539],\n       [0.01126231, 0.96862342],\n       [0.80224881, 0.24904885],\n       [0.38697669, 0.63292706]])"
     },
     "execution_count": 6,
     "metadata": {},
     "output_type": "execute_result"
    }
   ],
   "source": [
    "d\n"
   ],
   "metadata": {
    "collapsed": false,
    "pycharm": {
     "name": "#%%\n"
    }
   }
  }
 ],
 "metadata": {
  "kernelspec": {
   "display_name": "Python 3",
   "language": "python",
   "name": "python3"
  },
  "language_info": {
   "codemirror_mode": {
    "name": "ipython",
    "version": 2
   },
   "file_extension": ".py",
   "mimetype": "text/x-python",
   "name": "python",
   "nbconvert_exporter": "python",
   "pygments_lexer": "ipython2",
   "version": "2.7.6"
  }
 },
 "nbformat": 4,
 "nbformat_minor": 0
}